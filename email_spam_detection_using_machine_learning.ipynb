{
  "cells": [
    {
      "cell_type": "markdown",
      "id": "8e5f2713",
      "metadata": {
        "papermill": {
          "duration": 0.017949,
          "end_time": "2023-09-09T12:02:23.446089",
          "exception": false,
          "start_time": "2023-09-09T12:02:23.428140",
          "status": "completed"
        },
        "tags": [],
        "id": "8e5f2713"
      },
      "source": [
        "# **Email spam Detection with Machine Learning**"
      ]
    },
    {
      "cell_type": "code",
      "execution_count": null,
      "id": "bc3d0742",
      "metadata": {
        "execution": {
          "iopub.execute_input": "2023-09-09T12:02:23.550852Z",
          "iopub.status.busy": "2023-09-09T12:02:23.550080Z",
          "iopub.status.idle": "2023-09-09T12:02:26.910743Z",
          "shell.execute_reply": "2023-09-09T12:02:26.909464Z"
        },
        "papermill": {
          "duration": 3.382722,
          "end_time": "2023-09-09T12:02:26.913971",
          "exception": false,
          "start_time": "2023-09-09T12:02:23.531249",
          "status": "completed"
        },
        "tags": [],
        "id": "bc3d0742"
      },
      "outputs": [],
      "source": [
        "# Import necessary libraries\n",
        "\n",
        "import pandas as pd\n",
        "import numpy as np\n",
        "from sklearn.model_selection import train_test_split\n",
        "from sklearn.feature_extraction.text import TfidfVectorizer\n",
        "from sklearn.linear_model import LogisticRegression\n",
        "from sklearn.metrics import accuracy_score, confusion_matrix, roc_curve, roc_auc_score\n",
        "import nltk\n",
        "from nltk.corpus import stopwords\n",
        "from collections import Counter\n",
        "\n",
        "# Libraries for visualisation\n",
        "\n",
        "import matplotlib.pyplot as plt\n",
        "import seaborn as sns"
      ]
    },
    {
      "cell_type": "code",
      "execution_count": null,
      "id": "566e69fc",
      "metadata": {
        "execution": {
          "iopub.execute_input": "2023-09-09T12:02:26.951122Z",
          "iopub.status.busy": "2023-09-09T12:02:26.950004Z",
          "iopub.status.idle": "2023-09-09T12:02:27.070780Z",
          "shell.execute_reply": "2023-09-09T12:02:27.069085Z"
        },
        "papermill": {
          "duration": 0.142692,
          "end_time": "2023-09-09T12:02:27.073792",
          "exception": false,
          "start_time": "2023-09-09T12:02:26.931100",
          "status": "completed"
        },
        "tags": [],
        "colab": {
          "base_uri": "https://localhost:8080/"
        },
        "id": "566e69fc",
        "outputId": "e62e8195-238f-40e9-fe2d-53f1abab3fcd"
      },
      "outputs": [
        {
          "output_type": "stream",
          "name": "stderr",
          "text": [
            "[nltk_data] Downloading package stopwords to /root/nltk_data...\n",
            "[nltk_data]   Unzipping corpora/stopwords.zip.\n"
          ]
        },
        {
          "output_type": "execute_result",
          "data": {
            "text/plain": [
              "True"
            ]
          },
          "metadata": {},
          "execution_count": 3
        }
      ],
      "source": [
        "# Download the stopwords dataset\n",
        "\n",
        "nltk.download('stopwords')"
      ]
    },
    {
      "cell_type": "markdown",
      "id": "1593e16a",
      "metadata": {
        "papermill": {
          "duration": 0.016552,
          "end_time": "2023-09-09T12:02:27.108145",
          "exception": false,
          "start_time": "2023-09-09T12:02:27.091593",
          "status": "completed"
        },
        "tags": [],
        "id": "1593e16a"
      },
      "source": [
        "# **Load the dataset**"
      ]
    },
    {
      "cell_type": "code",
      "execution_count": null,
      "id": "729534fa",
      "metadata": {
        "execution": {
          "iopub.execute_input": "2023-09-09T12:02:27.145015Z",
          "iopub.status.busy": "2023-09-09T12:02:27.144256Z",
          "iopub.status.idle": "2023-09-09T12:02:27.212895Z",
          "shell.execute_reply": "2023-09-09T12:02:27.212016Z"
        },
        "papermill": {
          "duration": 0.09047,
          "end_time": "2023-09-09T12:02:27.215575",
          "exception": false,
          "start_time": "2023-09-09T12:02:27.125105",
          "status": "completed"
        },
        "tags": [],
        "colab": {
          "base_uri": "https://localhost:8080/",
          "height": 206
        },
        "id": "729534fa",
        "outputId": "ec09e944-7466-4cb7-9678-79c9d01c4cbe"
      },
      "outputs": [
        {
          "output_type": "execute_result",
          "data": {
            "text/plain": [
              "       v1                                                 v2 Unnamed: 2  \\\n",
              "0  Normal  Go until jurong point, crazy.. Available only ...        NaN   \n",
              "1  Normal                      Ok lar... Joking wif u oni...        NaN   \n",
              "2    spam  Free entry in 2 a wkly comp to win FA Cup fina...        NaN   \n",
              "3  Normal  U dun say so early hor... U c already then say...        NaN   \n",
              "4  Normal  Nah I don't think he goes to usf, he lives aro...        NaN   \n",
              "\n",
              "  Unnamed: 3 Unnamed: 4  \n",
              "0        NaN        NaN  \n",
              "1        NaN        NaN  \n",
              "2        NaN        NaN  \n",
              "3        NaN        NaN  \n",
              "4        NaN        NaN  "
            ],
            "text/html": [
              "\n",
              "  <div id=\"df-f9f4bc70-04c2-488c-8699-0b6725165efe\" class=\"colab-df-container\">\n",
              "    <div>\n",
              "<style scoped>\n",
              "    .dataframe tbody tr th:only-of-type {\n",
              "        vertical-align: middle;\n",
              "    }\n",
              "\n",
              "    .dataframe tbody tr th {\n",
              "        vertical-align: top;\n",
              "    }\n",
              "\n",
              "    .dataframe thead th {\n",
              "        text-align: right;\n",
              "    }\n",
              "</style>\n",
              "<table border=\"1\" class=\"dataframe\">\n",
              "  <thead>\n",
              "    <tr style=\"text-align: right;\">\n",
              "      <th></th>\n",
              "      <th>v1</th>\n",
              "      <th>v2</th>\n",
              "      <th>Unnamed: 2</th>\n",
              "      <th>Unnamed: 3</th>\n",
              "      <th>Unnamed: 4</th>\n",
              "    </tr>\n",
              "  </thead>\n",
              "  <tbody>\n",
              "    <tr>\n",
              "      <th>0</th>\n",
              "      <td>Normal</td>\n",
              "      <td>Go until jurong point, crazy.. Available only ...</td>\n",
              "      <td>NaN</td>\n",
              "      <td>NaN</td>\n",
              "      <td>NaN</td>\n",
              "    </tr>\n",
              "    <tr>\n",
              "      <th>1</th>\n",
              "      <td>Normal</td>\n",
              "      <td>Ok lar... Joking wif u oni...</td>\n",
              "      <td>NaN</td>\n",
              "      <td>NaN</td>\n",
              "      <td>NaN</td>\n",
              "    </tr>\n",
              "    <tr>\n",
              "      <th>2</th>\n",
              "      <td>spam</td>\n",
              "      <td>Free entry in 2 a wkly comp to win FA Cup fina...</td>\n",
              "      <td>NaN</td>\n",
              "      <td>NaN</td>\n",
              "      <td>NaN</td>\n",
              "    </tr>\n",
              "    <tr>\n",
              "      <th>3</th>\n",
              "      <td>Normal</td>\n",
              "      <td>U dun say so early hor... U c already then say...</td>\n",
              "      <td>NaN</td>\n",
              "      <td>NaN</td>\n",
              "      <td>NaN</td>\n",
              "    </tr>\n",
              "    <tr>\n",
              "      <th>4</th>\n",
              "      <td>Normal</td>\n",
              "      <td>Nah I don't think he goes to usf, he lives aro...</td>\n",
              "      <td>NaN</td>\n",
              "      <td>NaN</td>\n",
              "      <td>NaN</td>\n",
              "    </tr>\n",
              "  </tbody>\n",
              "</table>\n",
              "</div>\n",
              "    <div class=\"colab-df-buttons\">\n",
              "\n",
              "  <div class=\"colab-df-container\">\n",
              "    <button class=\"colab-df-convert\" onclick=\"convertToInteractive('df-f9f4bc70-04c2-488c-8699-0b6725165efe')\"\n",
              "            title=\"Convert this dataframe to an interactive table.\"\n",
              "            style=\"display:none;\">\n",
              "\n",
              "  <svg xmlns=\"http://www.w3.org/2000/svg\" height=\"24px\" viewBox=\"0 -960 960 960\">\n",
              "    <path d=\"M120-120v-720h720v720H120Zm60-500h600v-160H180v160Zm220 220h160v-160H400v160Zm0 220h160v-160H400v160ZM180-400h160v-160H180v160Zm440 0h160v-160H620v160ZM180-180h160v-160H180v160Zm440 0h160v-160H620v160Z\"/>\n",
              "  </svg>\n",
              "    </button>\n",
              "\n",
              "  <style>\n",
              "    .colab-df-container {\n",
              "      display:flex;\n",
              "      gap: 12px;\n",
              "    }\n",
              "\n",
              "    .colab-df-convert {\n",
              "      background-color: #E8F0FE;\n",
              "      border: none;\n",
              "      border-radius: 50%;\n",
              "      cursor: pointer;\n",
              "      display: none;\n",
              "      fill: #1967D2;\n",
              "      height: 32px;\n",
              "      padding: 0 0 0 0;\n",
              "      width: 32px;\n",
              "    }\n",
              "\n",
              "    .colab-df-convert:hover {\n",
              "      background-color: #E2EBFA;\n",
              "      box-shadow: 0px 1px 2px rgba(60, 64, 67, 0.3), 0px 1px 3px 1px rgba(60, 64, 67, 0.15);\n",
              "      fill: #174EA6;\n",
              "    }\n",
              "\n",
              "    .colab-df-buttons div {\n",
              "      margin-bottom: 4px;\n",
              "    }\n",
              "\n",
              "    [theme=dark] .colab-df-convert {\n",
              "      background-color: #3B4455;\n",
              "      fill: #D2E3FC;\n",
              "    }\n",
              "\n",
              "    [theme=dark] .colab-df-convert:hover {\n",
              "      background-color: #434B5C;\n",
              "      box-shadow: 0px 1px 3px 1px rgba(0, 0, 0, 0.15);\n",
              "      filter: drop-shadow(0px 1px 2px rgba(0, 0, 0, 0.3));\n",
              "      fill: #FFFFFF;\n",
              "    }\n",
              "  </style>\n",
              "\n",
              "    <script>\n",
              "      const buttonEl =\n",
              "        document.querySelector('#df-f9f4bc70-04c2-488c-8699-0b6725165efe button.colab-df-convert');\n",
              "      buttonEl.style.display =\n",
              "        google.colab.kernel.accessAllowed ? 'block' : 'none';\n",
              "\n",
              "      async function convertToInteractive(key) {\n",
              "        const element = document.querySelector('#df-f9f4bc70-04c2-488c-8699-0b6725165efe');\n",
              "        const dataTable =\n",
              "          await google.colab.kernel.invokeFunction('convertToInteractive',\n",
              "                                                    [key], {});\n",
              "        if (!dataTable) return;\n",
              "\n",
              "        const docLinkHtml = 'Like what you see? Visit the ' +\n",
              "          '<a target=\"_blank\" href=https://colab.research.google.com/notebooks/data_table.ipynb>data table notebook</a>'\n",
              "          + ' to learn more about interactive tables.';\n",
              "        element.innerHTML = '';\n",
              "        dataTable['output_type'] = 'display_data';\n",
              "        await google.colab.output.renderOutput(dataTable, element);\n",
              "        const docLink = document.createElement('div');\n",
              "        docLink.innerHTML = docLinkHtml;\n",
              "        element.appendChild(docLink);\n",
              "      }\n",
              "    </script>\n",
              "  </div>\n",
              "\n",
              "\n",
              "<div id=\"df-652b21eb-ba85-471b-80c3-ee70513f32bb\">\n",
              "  <button class=\"colab-df-quickchart\" onclick=\"quickchart('df-652b21eb-ba85-471b-80c3-ee70513f32bb')\"\n",
              "            title=\"Suggest charts\"\n",
              "            style=\"display:none;\">\n",
              "\n",
              "<svg xmlns=\"http://www.w3.org/2000/svg\" height=\"24px\"viewBox=\"0 0 24 24\"\n",
              "     width=\"24px\">\n",
              "    <g>\n",
              "        <path d=\"M19 3H5c-1.1 0-2 .9-2 2v14c0 1.1.9 2 2 2h14c1.1 0 2-.9 2-2V5c0-1.1-.9-2-2-2zM9 17H7v-7h2v7zm4 0h-2V7h2v10zm4 0h-2v-4h2v4z\"/>\n",
              "    </g>\n",
              "</svg>\n",
              "  </button>\n",
              "\n",
              "<style>\n",
              "  .colab-df-quickchart {\n",
              "      --bg-color: #E8F0FE;\n",
              "      --fill-color: #1967D2;\n",
              "      --hover-bg-color: #E2EBFA;\n",
              "      --hover-fill-color: #174EA6;\n",
              "      --disabled-fill-color: #AAA;\n",
              "      --disabled-bg-color: #DDD;\n",
              "  }\n",
              "\n",
              "  [theme=dark] .colab-df-quickchart {\n",
              "      --bg-color: #3B4455;\n",
              "      --fill-color: #D2E3FC;\n",
              "      --hover-bg-color: #434B5C;\n",
              "      --hover-fill-color: #FFFFFF;\n",
              "      --disabled-bg-color: #3B4455;\n",
              "      --disabled-fill-color: #666;\n",
              "  }\n",
              "\n",
              "  .colab-df-quickchart {\n",
              "    background-color: var(--bg-color);\n",
              "    border: none;\n",
              "    border-radius: 50%;\n",
              "    cursor: pointer;\n",
              "    display: none;\n",
              "    fill: var(--fill-color);\n",
              "    height: 32px;\n",
              "    padding: 0;\n",
              "    width: 32px;\n",
              "  }\n",
              "\n",
              "  .colab-df-quickchart:hover {\n",
              "    background-color: var(--hover-bg-color);\n",
              "    box-shadow: 0 1px 2px rgba(60, 64, 67, 0.3), 0 1px 3px 1px rgba(60, 64, 67, 0.15);\n",
              "    fill: var(--button-hover-fill-color);\n",
              "  }\n",
              "\n",
              "  .colab-df-quickchart-complete:disabled,\n",
              "  .colab-df-quickchart-complete:disabled:hover {\n",
              "    background-color: var(--disabled-bg-color);\n",
              "    fill: var(--disabled-fill-color);\n",
              "    box-shadow: none;\n",
              "  }\n",
              "\n",
              "  .colab-df-spinner {\n",
              "    border: 2px solid var(--fill-color);\n",
              "    border-color: transparent;\n",
              "    border-bottom-color: var(--fill-color);\n",
              "    animation:\n",
              "      spin 1s steps(1) infinite;\n",
              "  }\n",
              "\n",
              "  @keyframes spin {\n",
              "    0% {\n",
              "      border-color: transparent;\n",
              "      border-bottom-color: var(--fill-color);\n",
              "      border-left-color: var(--fill-color);\n",
              "    }\n",
              "    20% {\n",
              "      border-color: transparent;\n",
              "      border-left-color: var(--fill-color);\n",
              "      border-top-color: var(--fill-color);\n",
              "    }\n",
              "    30% {\n",
              "      border-color: transparent;\n",
              "      border-left-color: var(--fill-color);\n",
              "      border-top-color: var(--fill-color);\n",
              "      border-right-color: var(--fill-color);\n",
              "    }\n",
              "    40% {\n",
              "      border-color: transparent;\n",
              "      border-right-color: var(--fill-color);\n",
              "      border-top-color: var(--fill-color);\n",
              "    }\n",
              "    60% {\n",
              "      border-color: transparent;\n",
              "      border-right-color: var(--fill-color);\n",
              "    }\n",
              "    80% {\n",
              "      border-color: transparent;\n",
              "      border-right-color: var(--fill-color);\n",
              "      border-bottom-color: var(--fill-color);\n",
              "    }\n",
              "    90% {\n",
              "      border-color: transparent;\n",
              "      border-bottom-color: var(--fill-color);\n",
              "    }\n",
              "  }\n",
              "</style>\n",
              "\n",
              "  <script>\n",
              "    async function quickchart(key) {\n",
              "      const quickchartButtonEl =\n",
              "        document.querySelector('#' + key + ' button');\n",
              "      quickchartButtonEl.disabled = true;  // To prevent multiple clicks.\n",
              "      quickchartButtonEl.classList.add('colab-df-spinner');\n",
              "      try {\n",
              "        const charts = await google.colab.kernel.invokeFunction(\n",
              "            'suggestCharts', [key], {});\n",
              "      } catch (error) {\n",
              "        console.error('Error during call to suggestCharts:', error);\n",
              "      }\n",
              "      quickchartButtonEl.classList.remove('colab-df-spinner');\n",
              "      quickchartButtonEl.classList.add('colab-df-quickchart-complete');\n",
              "    }\n",
              "    (() => {\n",
              "      let quickchartButtonEl =\n",
              "        document.querySelector('#df-652b21eb-ba85-471b-80c3-ee70513f32bb button');\n",
              "      quickchartButtonEl.style.display =\n",
              "        google.colab.kernel.accessAllowed ? 'block' : 'none';\n",
              "    })();\n",
              "  </script>\n",
              "</div>\n",
              "    </div>\n",
              "  </div>\n"
            ],
            "application/vnd.google.colaboratory.intrinsic+json": {
              "type": "dataframe",
              "variable_name": "df",
              "summary": "{\n  \"name\": \"df\",\n  \"rows\": 5572,\n  \"fields\": [\n    {\n      \"column\": \"v1\",\n      \"properties\": {\n        \"dtype\": \"category\",\n        \"num_unique_values\": 2,\n        \"samples\": [\n          \"spam\",\n          \"Normal\"\n        ],\n        \"semantic_type\": \"\",\n        \"description\": \"\"\n      }\n    },\n    {\n      \"column\": \"v2\",\n      \"properties\": {\n        \"dtype\": \"string\",\n        \"num_unique_values\": 5169,\n        \"samples\": [\n          \"Did u download the fring app?\",\n          \"Pass dis to all ur contacts n see wat u get! Red;i'm in luv wid u. Blue;u put a smile on my face. Purple;u r realy hot. Pink;u r so swt. Orange;i thnk i lyk u. Green;i realy wana go out wid u. Yelow;i wnt u bck. Black;i'm jealous of u. Brown;i miss you Nw plz giv me one color\"\n        ],\n        \"semantic_type\": \"\",\n        \"description\": \"\"\n      }\n    },\n    {\n      \"column\": \"Unnamed: 2\",\n      \"properties\": {\n        \"dtype\": \"category\",\n        \"num_unique_values\": 43,\n        \"samples\": [\n          \" GOD said\",\n          \" SHE SHUDVETOLD U. DID URGRAN KNOW?NEWAY\"\n        ],\n        \"semantic_type\": \"\",\n        \"description\": \"\"\n      }\n    },\n    {\n      \"column\": \"Unnamed: 3\",\n      \"properties\": {\n        \"dtype\": \"category\",\n        \"num_unique_values\": 10,\n        \"samples\": [\n          \" \\\\\\\"OH No! COMPETITION\\\\\\\". Who knew\",\n          \" why to miss them\"\n        ],\n        \"semantic_type\": \"\",\n        \"description\": \"\"\n      }\n    },\n    {\n      \"column\": \"Unnamed: 4\",\n      \"properties\": {\n        \"dtype\": \"category\",\n        \"num_unique_values\": 5,\n        \"samples\": [\n          \"GNT:-)\\\"\",\n          \" one day these two will become FREINDS FOREVER!\\\"\"\n        ],\n        \"semantic_type\": \"\",\n        \"description\": \"\"\n      }\n    }\n  ]\n}"
            }
          },
          "metadata": {},
          "execution_count": 4
        }
      ],
      "source": [
        "# Load the dataset\n",
        "df = pd.read_csv(\"/content/spam.csv\",encoding='latin-1')\n",
        "\n",
        "# Display the first few rows of the dataset\n",
        "df.head()"
      ]
    },
    {
      "cell_type": "code",
      "execution_count": null,
      "id": "2a93ff31",
      "metadata": {
        "execution": {
          "iopub.execute_input": "2023-09-09T12:02:27.252202Z",
          "iopub.status.busy": "2023-09-09T12:02:27.251757Z",
          "iopub.status.idle": "2023-09-09T12:02:27.267371Z",
          "shell.execute_reply": "2023-09-09T12:02:27.265829Z"
        },
        "papermill": {
          "duration": 0.037915,
          "end_time": "2023-09-09T12:02:27.270660",
          "exception": false,
          "start_time": "2023-09-09T12:02:27.232745",
          "status": "completed"
        },
        "tags": [],
        "id": "2a93ff31"
      },
      "outputs": [],
      "source": [
        "# Drop unnecessary columns from the DataFrame\n",
        "\n",
        "columns_to_drop = [\"Unnamed: 2\", \"Unnamed: 3\", \"Unnamed: 4\"]\n",
        "df.drop(columns=columns_to_drop, inplace=True)"
      ]
    },
    {
      "cell_type": "markdown",
      "id": "426940ae",
      "metadata": {
        "papermill": {
          "duration": 0.017439,
          "end_time": "2023-09-09T12:02:27.305907",
          "exception": false,
          "start_time": "2023-09-09T12:02:27.288468",
          "status": "completed"
        },
        "tags": [],
        "id": "426940ae"
      },
      "source": [
        "# **Exploring the Dataset**"
      ]
    },
    {
      "cell_type": "code",
      "execution_count": null,
      "id": "c73f9406",
      "metadata": {
        "execution": {
          "iopub.execute_input": "2023-09-09T12:02:27.343337Z",
          "iopub.status.busy": "2023-09-09T12:02:27.342924Z",
          "iopub.status.idle": "2023-09-09T12:02:27.356983Z",
          "shell.execute_reply": "2023-09-09T12:02:27.355754Z"
        },
        "papermill": {
          "duration": 0.03567,
          "end_time": "2023-09-09T12:02:27.359402",
          "exception": false,
          "start_time": "2023-09-09T12:02:27.323732",
          "status": "completed"
        },
        "tags": [],
        "colab": {
          "base_uri": "https://localhost:8080/",
          "height": 423
        },
        "id": "c73f9406",
        "outputId": "a412ee7c-b249-43b9-d9fb-f8acf082601d"
      },
      "outputs": [
        {
          "output_type": "execute_result",
          "data": {
            "text/plain": [
              "          v1                                                 v2\n",
              "0     Normal  Go until jurong point, crazy.. Available only ...\n",
              "1     Normal                      Ok lar... Joking wif u oni...\n",
              "2       spam  Free entry in 2 a wkly comp to win FA Cup fina...\n",
              "3     Normal  U dun say so early hor... U c already then say...\n",
              "4     Normal  Nah I don't think he goes to usf, he lives aro...\n",
              "...      ...                                                ...\n",
              "5567    spam  This is the 2nd time we have tried 2 contact u...\n",
              "5568  Normal              Will Ì_ b going to esplanade fr home?\n",
              "5569  Normal  Pity, * was in mood for that. So...any other s...\n",
              "5570  Normal  The guy did some bitching but I acted like i'd...\n",
              "5571  Normal                         Rofl. Its true to its name\n",
              "\n",
              "[5572 rows x 2 columns]"
            ],
            "text/html": [
              "\n",
              "  <div id=\"df-3544be6a-51d9-4a3f-863c-ef67d9bb0d2c\" class=\"colab-df-container\">\n",
              "    <div>\n",
              "<style scoped>\n",
              "    .dataframe tbody tr th:only-of-type {\n",
              "        vertical-align: middle;\n",
              "    }\n",
              "\n",
              "    .dataframe tbody tr th {\n",
              "        vertical-align: top;\n",
              "    }\n",
              "\n",
              "    .dataframe thead th {\n",
              "        text-align: right;\n",
              "    }\n",
              "</style>\n",
              "<table border=\"1\" class=\"dataframe\">\n",
              "  <thead>\n",
              "    <tr style=\"text-align: right;\">\n",
              "      <th></th>\n",
              "      <th>v1</th>\n",
              "      <th>v2</th>\n",
              "    </tr>\n",
              "  </thead>\n",
              "  <tbody>\n",
              "    <tr>\n",
              "      <th>0</th>\n",
              "      <td>Normal</td>\n",
              "      <td>Go until jurong point, crazy.. Available only ...</td>\n",
              "    </tr>\n",
              "    <tr>\n",
              "      <th>1</th>\n",
              "      <td>Normal</td>\n",
              "      <td>Ok lar... Joking wif u oni...</td>\n",
              "    </tr>\n",
              "    <tr>\n",
              "      <th>2</th>\n",
              "      <td>spam</td>\n",
              "      <td>Free entry in 2 a wkly comp to win FA Cup fina...</td>\n",
              "    </tr>\n",
              "    <tr>\n",
              "      <th>3</th>\n",
              "      <td>Normal</td>\n",
              "      <td>U dun say so early hor... U c already then say...</td>\n",
              "    </tr>\n",
              "    <tr>\n",
              "      <th>4</th>\n",
              "      <td>Normal</td>\n",
              "      <td>Nah I don't think he goes to usf, he lives aro...</td>\n",
              "    </tr>\n",
              "    <tr>\n",
              "      <th>...</th>\n",
              "      <td>...</td>\n",
              "      <td>...</td>\n",
              "    </tr>\n",
              "    <tr>\n",
              "      <th>5567</th>\n",
              "      <td>spam</td>\n",
              "      <td>This is the 2nd time we have tried 2 contact u...</td>\n",
              "    </tr>\n",
              "    <tr>\n",
              "      <th>5568</th>\n",
              "      <td>Normal</td>\n",
              "      <td>Will Ì_ b going to esplanade fr home?</td>\n",
              "    </tr>\n",
              "    <tr>\n",
              "      <th>5569</th>\n",
              "      <td>Normal</td>\n",
              "      <td>Pity, * was in mood for that. So...any other s...</td>\n",
              "    </tr>\n",
              "    <tr>\n",
              "      <th>5570</th>\n",
              "      <td>Normal</td>\n",
              "      <td>The guy did some bitching but I acted like i'd...</td>\n",
              "    </tr>\n",
              "    <tr>\n",
              "      <th>5571</th>\n",
              "      <td>Normal</td>\n",
              "      <td>Rofl. Its true to its name</td>\n",
              "    </tr>\n",
              "  </tbody>\n",
              "</table>\n",
              "<p>5572 rows × 2 columns</p>\n",
              "</div>\n",
              "    <div class=\"colab-df-buttons\">\n",
              "\n",
              "  <div class=\"colab-df-container\">\n",
              "    <button class=\"colab-df-convert\" onclick=\"convertToInteractive('df-3544be6a-51d9-4a3f-863c-ef67d9bb0d2c')\"\n",
              "            title=\"Convert this dataframe to an interactive table.\"\n",
              "            style=\"display:none;\">\n",
              "\n",
              "  <svg xmlns=\"http://www.w3.org/2000/svg\" height=\"24px\" viewBox=\"0 -960 960 960\">\n",
              "    <path d=\"M120-120v-720h720v720H120Zm60-500h600v-160H180v160Zm220 220h160v-160H400v160Zm0 220h160v-160H400v160ZM180-400h160v-160H180v160Zm440 0h160v-160H620v160ZM180-180h160v-160H180v160Zm440 0h160v-160H620v160Z\"/>\n",
              "  </svg>\n",
              "    </button>\n",
              "\n",
              "  <style>\n",
              "    .colab-df-container {\n",
              "      display:flex;\n",
              "      gap: 12px;\n",
              "    }\n",
              "\n",
              "    .colab-df-convert {\n",
              "      background-color: #E8F0FE;\n",
              "      border: none;\n",
              "      border-radius: 50%;\n",
              "      cursor: pointer;\n",
              "      display: none;\n",
              "      fill: #1967D2;\n",
              "      height: 32px;\n",
              "      padding: 0 0 0 0;\n",
              "      width: 32px;\n",
              "    }\n",
              "\n",
              "    .colab-df-convert:hover {\n",
              "      background-color: #E2EBFA;\n",
              "      box-shadow: 0px 1px 2px rgba(60, 64, 67, 0.3), 0px 1px 3px 1px rgba(60, 64, 67, 0.15);\n",
              "      fill: #174EA6;\n",
              "    }\n",
              "\n",
              "    .colab-df-buttons div {\n",
              "      margin-bottom: 4px;\n",
              "    }\n",
              "\n",
              "    [theme=dark] .colab-df-convert {\n",
              "      background-color: #3B4455;\n",
              "      fill: #D2E3FC;\n",
              "    }\n",
              "\n",
              "    [theme=dark] .colab-df-convert:hover {\n",
              "      background-color: #434B5C;\n",
              "      box-shadow: 0px 1px 3px 1px rgba(0, 0, 0, 0.15);\n",
              "      filter: drop-shadow(0px 1px 2px rgba(0, 0, 0, 0.3));\n",
              "      fill: #FFFFFF;\n",
              "    }\n",
              "  </style>\n",
              "\n",
              "    <script>\n",
              "      const buttonEl =\n",
              "        document.querySelector('#df-3544be6a-51d9-4a3f-863c-ef67d9bb0d2c button.colab-df-convert');\n",
              "      buttonEl.style.display =\n",
              "        google.colab.kernel.accessAllowed ? 'block' : 'none';\n",
              "\n",
              "      async function convertToInteractive(key) {\n",
              "        const element = document.querySelector('#df-3544be6a-51d9-4a3f-863c-ef67d9bb0d2c');\n",
              "        const dataTable =\n",
              "          await google.colab.kernel.invokeFunction('convertToInteractive',\n",
              "                                                    [key], {});\n",
              "        if (!dataTable) return;\n",
              "\n",
              "        const docLinkHtml = 'Like what you see? Visit the ' +\n",
              "          '<a target=\"_blank\" href=https://colab.research.google.com/notebooks/data_table.ipynb>data table notebook</a>'\n",
              "          + ' to learn more about interactive tables.';\n",
              "        element.innerHTML = '';\n",
              "        dataTable['output_type'] = 'display_data';\n",
              "        await google.colab.output.renderOutput(dataTable, element);\n",
              "        const docLink = document.createElement('div');\n",
              "        docLink.innerHTML = docLinkHtml;\n",
              "        element.appendChild(docLink);\n",
              "      }\n",
              "    </script>\n",
              "  </div>\n",
              "\n",
              "\n",
              "<div id=\"df-8be65f6e-feed-4741-9aea-887aee33be8f\">\n",
              "  <button class=\"colab-df-quickchart\" onclick=\"quickchart('df-8be65f6e-feed-4741-9aea-887aee33be8f')\"\n",
              "            title=\"Suggest charts\"\n",
              "            style=\"display:none;\">\n",
              "\n",
              "<svg xmlns=\"http://www.w3.org/2000/svg\" height=\"24px\"viewBox=\"0 0 24 24\"\n",
              "     width=\"24px\">\n",
              "    <g>\n",
              "        <path d=\"M19 3H5c-1.1 0-2 .9-2 2v14c0 1.1.9 2 2 2h14c1.1 0 2-.9 2-2V5c0-1.1-.9-2-2-2zM9 17H7v-7h2v7zm4 0h-2V7h2v10zm4 0h-2v-4h2v4z\"/>\n",
              "    </g>\n",
              "</svg>\n",
              "  </button>\n",
              "\n",
              "<style>\n",
              "  .colab-df-quickchart {\n",
              "      --bg-color: #E8F0FE;\n",
              "      --fill-color: #1967D2;\n",
              "      --hover-bg-color: #E2EBFA;\n",
              "      --hover-fill-color: #174EA6;\n",
              "      --disabled-fill-color: #AAA;\n",
              "      --disabled-bg-color: #DDD;\n",
              "  }\n",
              "\n",
              "  [theme=dark] .colab-df-quickchart {\n",
              "      --bg-color: #3B4455;\n",
              "      --fill-color: #D2E3FC;\n",
              "      --hover-bg-color: #434B5C;\n",
              "      --hover-fill-color: #FFFFFF;\n",
              "      --disabled-bg-color: #3B4455;\n",
              "      --disabled-fill-color: #666;\n",
              "  }\n",
              "\n",
              "  .colab-df-quickchart {\n",
              "    background-color: var(--bg-color);\n",
              "    border: none;\n",
              "    border-radius: 50%;\n",
              "    cursor: pointer;\n",
              "    display: none;\n",
              "    fill: var(--fill-color);\n",
              "    height: 32px;\n",
              "    padding: 0;\n",
              "    width: 32px;\n",
              "  }\n",
              "\n",
              "  .colab-df-quickchart:hover {\n",
              "    background-color: var(--hover-bg-color);\n",
              "    box-shadow: 0 1px 2px rgba(60, 64, 67, 0.3), 0 1px 3px 1px rgba(60, 64, 67, 0.15);\n",
              "    fill: var(--button-hover-fill-color);\n",
              "  }\n",
              "\n",
              "  .colab-df-quickchart-complete:disabled,\n",
              "  .colab-df-quickchart-complete:disabled:hover {\n",
              "    background-color: var(--disabled-bg-color);\n",
              "    fill: var(--disabled-fill-color);\n",
              "    box-shadow: none;\n",
              "  }\n",
              "\n",
              "  .colab-df-spinner {\n",
              "    border: 2px solid var(--fill-color);\n",
              "    border-color: transparent;\n",
              "    border-bottom-color: var(--fill-color);\n",
              "    animation:\n",
              "      spin 1s steps(1) infinite;\n",
              "  }\n",
              "\n",
              "  @keyframes spin {\n",
              "    0% {\n",
              "      border-color: transparent;\n",
              "      border-bottom-color: var(--fill-color);\n",
              "      border-left-color: var(--fill-color);\n",
              "    }\n",
              "    20% {\n",
              "      border-color: transparent;\n",
              "      border-left-color: var(--fill-color);\n",
              "      border-top-color: var(--fill-color);\n",
              "    }\n",
              "    30% {\n",
              "      border-color: transparent;\n",
              "      border-left-color: var(--fill-color);\n",
              "      border-top-color: var(--fill-color);\n",
              "      border-right-color: var(--fill-color);\n",
              "    }\n",
              "    40% {\n",
              "      border-color: transparent;\n",
              "      border-right-color: var(--fill-color);\n",
              "      border-top-color: var(--fill-color);\n",
              "    }\n",
              "    60% {\n",
              "      border-color: transparent;\n",
              "      border-right-color: var(--fill-color);\n",
              "    }\n",
              "    80% {\n",
              "      border-color: transparent;\n",
              "      border-right-color: var(--fill-color);\n",
              "      border-bottom-color: var(--fill-color);\n",
              "    }\n",
              "    90% {\n",
              "      border-color: transparent;\n",
              "      border-bottom-color: var(--fill-color);\n",
              "    }\n",
              "  }\n",
              "</style>\n",
              "\n",
              "  <script>\n",
              "    async function quickchart(key) {\n",
              "      const quickchartButtonEl =\n",
              "        document.querySelector('#' + key + ' button');\n",
              "      quickchartButtonEl.disabled = true;  // To prevent multiple clicks.\n",
              "      quickchartButtonEl.classList.add('colab-df-spinner');\n",
              "      try {\n",
              "        const charts = await google.colab.kernel.invokeFunction(\n",
              "            'suggestCharts', [key], {});\n",
              "      } catch (error) {\n",
              "        console.error('Error during call to suggestCharts:', error);\n",
              "      }\n",
              "      quickchartButtonEl.classList.remove('colab-df-spinner');\n",
              "      quickchartButtonEl.classList.add('colab-df-quickchart-complete');\n",
              "    }\n",
              "    (() => {\n",
              "      let quickchartButtonEl =\n",
              "        document.querySelector('#df-8be65f6e-feed-4741-9aea-887aee33be8f button');\n",
              "      quickchartButtonEl.style.display =\n",
              "        google.colab.kernel.accessAllowed ? 'block' : 'none';\n",
              "    })();\n",
              "  </script>\n",
              "</div>\n",
              "    </div>\n",
              "  </div>\n"
            ],
            "application/vnd.google.colaboratory.intrinsic+json": {
              "type": "dataframe",
              "variable_name": "df",
              "summary": "{\n  \"name\": \"df\",\n  \"rows\": 5572,\n  \"fields\": [\n    {\n      \"column\": \"v1\",\n      \"properties\": {\n        \"dtype\": \"category\",\n        \"num_unique_values\": 2,\n        \"samples\": [\n          \"spam\",\n          \"Normal\"\n        ],\n        \"semantic_type\": \"\",\n        \"description\": \"\"\n      }\n    },\n    {\n      \"column\": \"v2\",\n      \"properties\": {\n        \"dtype\": \"string\",\n        \"num_unique_values\": 5169,\n        \"samples\": [\n          \"Did u download the fring app?\",\n          \"Pass dis to all ur contacts n see wat u get! Red;i'm in luv wid u. Blue;u put a smile on my face. Purple;u r realy hot. Pink;u r so swt. Orange;i thnk i lyk u. Green;i realy wana go out wid u. Yelow;i wnt u bck. Black;i'm jealous of u. Brown;i miss you Nw plz giv me one color\"\n        ],\n        \"semantic_type\": \"\",\n        \"description\": \"\"\n      }\n    }\n  ]\n}"
            }
          },
          "metadata": {},
          "execution_count": 6
        }
      ],
      "source": [
        "# Displaying the data\n",
        "\n",
        "df"
      ]
    },
    {
      "cell_type": "code",
      "execution_count": null,
      "id": "865a1281",
      "metadata": {
        "execution": {
          "iopub.execute_input": "2023-09-09T12:02:27.397960Z",
          "iopub.status.busy": "2023-09-09T12:02:27.396706Z",
          "iopub.status.idle": "2023-09-09T12:02:27.422474Z",
          "shell.execute_reply": "2023-09-09T12:02:27.421622Z"
        },
        "papermill": {
          "duration": 0.047618,
          "end_time": "2023-09-09T12:02:27.424780",
          "exception": false,
          "start_time": "2023-09-09T12:02:27.377162",
          "status": "completed"
        },
        "tags": [],
        "colab": {
          "base_uri": "https://localhost:8080/"
        },
        "id": "865a1281",
        "outputId": "36d1bcd1-ba45-4fb2-cf72-5ea5f92116e0"
      },
      "outputs": [
        {
          "output_type": "stream",
          "name": "stdout",
          "text": [
            "<class 'pandas.core.frame.DataFrame'>\n",
            "RangeIndex: 5572 entries, 0 to 5571\n",
            "Data columns (total 2 columns):\n",
            " #   Column  Non-Null Count  Dtype \n",
            "---  ------  --------------  ----- \n",
            " 0   v1      5572 non-null   object\n",
            " 1   v2      5572 non-null   object\n",
            "dtypes: object(2)\n",
            "memory usage: 87.2+ KB\n"
          ]
        }
      ],
      "source": [
        "# Consice information of the dataset\n",
        "df.info()"
      ]
    },
    {
      "cell_type": "code",
      "execution_count": null,
      "id": "c7b93823",
      "metadata": {
        "execution": {
          "iopub.execute_input": "2023-09-09T12:02:27.559051Z",
          "iopub.status.busy": "2023-09-09T12:02:27.558270Z",
          "iopub.status.idle": "2023-09-09T12:02:27.565284Z",
          "shell.execute_reply": "2023-09-09T12:02:27.564071Z"
        },
        "papermill": {
          "duration": 0.125333,
          "end_time": "2023-09-09T12:02:27.568120",
          "exception": false,
          "start_time": "2023-09-09T12:02:27.442787",
          "status": "completed"
        },
        "tags": [],
        "colab": {
          "base_uri": "https://localhost:8080/"
        },
        "id": "c7b93823",
        "outputId": "6264a9a1-23d7-4402-a3b2-86da301a93aa"
      },
      "outputs": [
        {
          "output_type": "execute_result",
          "data": {
            "text/plain": [
              "(5572, 2)"
            ]
          },
          "metadata": {},
          "execution_count": 8
        }
      ],
      "source": [
        "df.shape"
      ]
    },
    {
      "cell_type": "code",
      "execution_count": null,
      "id": "3cdcd087",
      "metadata": {
        "execution": {
          "iopub.execute_input": "2023-09-09T12:02:27.607988Z",
          "iopub.status.busy": "2023-09-09T12:02:27.607537Z",
          "iopub.status.idle": "2023-09-09T12:02:27.629903Z",
          "shell.execute_reply": "2023-09-09T12:02:27.629015Z"
        },
        "papermill": {
          "duration": 0.044331,
          "end_time": "2023-09-09T12:02:27.632249",
          "exception": false,
          "start_time": "2023-09-09T12:02:27.587918",
          "status": "completed"
        },
        "tags": [],
        "colab": {
          "base_uri": "https://localhost:8080/",
          "height": 174
        },
        "id": "3cdcd087",
        "outputId": "549358de-4c7e-4052-e428-7d516f95af46"
      },
      "outputs": [
        {
          "output_type": "execute_result",
          "data": {
            "text/plain": [
              "            v1                      v2\n",
              "count     5572                    5572\n",
              "unique       2                    5169\n",
              "top     Normal  Sorry, I'll call later\n",
              "freq      4825                      30"
            ],
            "text/html": [
              "\n",
              "  <div id=\"df-7752a2d6-ded9-47af-933a-311a90665f16\" class=\"colab-df-container\">\n",
              "    <div>\n",
              "<style scoped>\n",
              "    .dataframe tbody tr th:only-of-type {\n",
              "        vertical-align: middle;\n",
              "    }\n",
              "\n",
              "    .dataframe tbody tr th {\n",
              "        vertical-align: top;\n",
              "    }\n",
              "\n",
              "    .dataframe thead th {\n",
              "        text-align: right;\n",
              "    }\n",
              "</style>\n",
              "<table border=\"1\" class=\"dataframe\">\n",
              "  <thead>\n",
              "    <tr style=\"text-align: right;\">\n",
              "      <th></th>\n",
              "      <th>v1</th>\n",
              "      <th>v2</th>\n",
              "    </tr>\n",
              "  </thead>\n",
              "  <tbody>\n",
              "    <tr>\n",
              "      <th>count</th>\n",
              "      <td>5572</td>\n",
              "      <td>5572</td>\n",
              "    </tr>\n",
              "    <tr>\n",
              "      <th>unique</th>\n",
              "      <td>2</td>\n",
              "      <td>5169</td>\n",
              "    </tr>\n",
              "    <tr>\n",
              "      <th>top</th>\n",
              "      <td>Normal</td>\n",
              "      <td>Sorry, I'll call later</td>\n",
              "    </tr>\n",
              "    <tr>\n",
              "      <th>freq</th>\n",
              "      <td>4825</td>\n",
              "      <td>30</td>\n",
              "    </tr>\n",
              "  </tbody>\n",
              "</table>\n",
              "</div>\n",
              "    <div class=\"colab-df-buttons\">\n",
              "\n",
              "  <div class=\"colab-df-container\">\n",
              "    <button class=\"colab-df-convert\" onclick=\"convertToInteractive('df-7752a2d6-ded9-47af-933a-311a90665f16')\"\n",
              "            title=\"Convert this dataframe to an interactive table.\"\n",
              "            style=\"display:none;\">\n",
              "\n",
              "  <svg xmlns=\"http://www.w3.org/2000/svg\" height=\"24px\" viewBox=\"0 -960 960 960\">\n",
              "    <path d=\"M120-120v-720h720v720H120Zm60-500h600v-160H180v160Zm220 220h160v-160H400v160Zm0 220h160v-160H400v160ZM180-400h160v-160H180v160Zm440 0h160v-160H620v160ZM180-180h160v-160H180v160Zm440 0h160v-160H620v160Z\"/>\n",
              "  </svg>\n",
              "    </button>\n",
              "\n",
              "  <style>\n",
              "    .colab-df-container {\n",
              "      display:flex;\n",
              "      gap: 12px;\n",
              "    }\n",
              "\n",
              "    .colab-df-convert {\n",
              "      background-color: #E8F0FE;\n",
              "      border: none;\n",
              "      border-radius: 50%;\n",
              "      cursor: pointer;\n",
              "      display: none;\n",
              "      fill: #1967D2;\n",
              "      height: 32px;\n",
              "      padding: 0 0 0 0;\n",
              "      width: 32px;\n",
              "    }\n",
              "\n",
              "    .colab-df-convert:hover {\n",
              "      background-color: #E2EBFA;\n",
              "      box-shadow: 0px 1px 2px rgba(60, 64, 67, 0.3), 0px 1px 3px 1px rgba(60, 64, 67, 0.15);\n",
              "      fill: #174EA6;\n",
              "    }\n",
              "\n",
              "    .colab-df-buttons div {\n",
              "      margin-bottom: 4px;\n",
              "    }\n",
              "\n",
              "    [theme=dark] .colab-df-convert {\n",
              "      background-color: #3B4455;\n",
              "      fill: #D2E3FC;\n",
              "    }\n",
              "\n",
              "    [theme=dark] .colab-df-convert:hover {\n",
              "      background-color: #434B5C;\n",
              "      box-shadow: 0px 1px 3px 1px rgba(0, 0, 0, 0.15);\n",
              "      filter: drop-shadow(0px 1px 2px rgba(0, 0, 0, 0.3));\n",
              "      fill: #FFFFFF;\n",
              "    }\n",
              "  </style>\n",
              "\n",
              "    <script>\n",
              "      const buttonEl =\n",
              "        document.querySelector('#df-7752a2d6-ded9-47af-933a-311a90665f16 button.colab-df-convert');\n",
              "      buttonEl.style.display =\n",
              "        google.colab.kernel.accessAllowed ? 'block' : 'none';\n",
              "\n",
              "      async function convertToInteractive(key) {\n",
              "        const element = document.querySelector('#df-7752a2d6-ded9-47af-933a-311a90665f16');\n",
              "        const dataTable =\n",
              "          await google.colab.kernel.invokeFunction('convertToInteractive',\n",
              "                                                    [key], {});\n",
              "        if (!dataTable) return;\n",
              "\n",
              "        const docLinkHtml = 'Like what you see? Visit the ' +\n",
              "          '<a target=\"_blank\" href=https://colab.research.google.com/notebooks/data_table.ipynb>data table notebook</a>'\n",
              "          + ' to learn more about interactive tables.';\n",
              "        element.innerHTML = '';\n",
              "        dataTable['output_type'] = 'display_data';\n",
              "        await google.colab.output.renderOutput(dataTable, element);\n",
              "        const docLink = document.createElement('div');\n",
              "        docLink.innerHTML = docLinkHtml;\n",
              "        element.appendChild(docLink);\n",
              "      }\n",
              "    </script>\n",
              "  </div>\n",
              "\n",
              "\n",
              "<div id=\"df-e4b0c26d-013f-4605-819e-70895fef03c7\">\n",
              "  <button class=\"colab-df-quickchart\" onclick=\"quickchart('df-e4b0c26d-013f-4605-819e-70895fef03c7')\"\n",
              "            title=\"Suggest charts\"\n",
              "            style=\"display:none;\">\n",
              "\n",
              "<svg xmlns=\"http://www.w3.org/2000/svg\" height=\"24px\"viewBox=\"0 0 24 24\"\n",
              "     width=\"24px\">\n",
              "    <g>\n",
              "        <path d=\"M19 3H5c-1.1 0-2 .9-2 2v14c0 1.1.9 2 2 2h14c1.1 0 2-.9 2-2V5c0-1.1-.9-2-2-2zM9 17H7v-7h2v7zm4 0h-2V7h2v10zm4 0h-2v-4h2v4z\"/>\n",
              "    </g>\n",
              "</svg>\n",
              "  </button>\n",
              "\n",
              "<style>\n",
              "  .colab-df-quickchart {\n",
              "      --bg-color: #E8F0FE;\n",
              "      --fill-color: #1967D2;\n",
              "      --hover-bg-color: #E2EBFA;\n",
              "      --hover-fill-color: #174EA6;\n",
              "      --disabled-fill-color: #AAA;\n",
              "      --disabled-bg-color: #DDD;\n",
              "  }\n",
              "\n",
              "  [theme=dark] .colab-df-quickchart {\n",
              "      --bg-color: #3B4455;\n",
              "      --fill-color: #D2E3FC;\n",
              "      --hover-bg-color: #434B5C;\n",
              "      --hover-fill-color: #FFFFFF;\n",
              "      --disabled-bg-color: #3B4455;\n",
              "      --disabled-fill-color: #666;\n",
              "  }\n",
              "\n",
              "  .colab-df-quickchart {\n",
              "    background-color: var(--bg-color);\n",
              "    border: none;\n",
              "    border-radius: 50%;\n",
              "    cursor: pointer;\n",
              "    display: none;\n",
              "    fill: var(--fill-color);\n",
              "    height: 32px;\n",
              "    padding: 0;\n",
              "    width: 32px;\n",
              "  }\n",
              "\n",
              "  .colab-df-quickchart:hover {\n",
              "    background-color: var(--hover-bg-color);\n",
              "    box-shadow: 0 1px 2px rgba(60, 64, 67, 0.3), 0 1px 3px 1px rgba(60, 64, 67, 0.15);\n",
              "    fill: var(--button-hover-fill-color);\n",
              "  }\n",
              "\n",
              "  .colab-df-quickchart-complete:disabled,\n",
              "  .colab-df-quickchart-complete:disabled:hover {\n",
              "    background-color: var(--disabled-bg-color);\n",
              "    fill: var(--disabled-fill-color);\n",
              "    box-shadow: none;\n",
              "  }\n",
              "\n",
              "  .colab-df-spinner {\n",
              "    border: 2px solid var(--fill-color);\n",
              "    border-color: transparent;\n",
              "    border-bottom-color: var(--fill-color);\n",
              "    animation:\n",
              "      spin 1s steps(1) infinite;\n",
              "  }\n",
              "\n",
              "  @keyframes spin {\n",
              "    0% {\n",
              "      border-color: transparent;\n",
              "      border-bottom-color: var(--fill-color);\n",
              "      border-left-color: var(--fill-color);\n",
              "    }\n",
              "    20% {\n",
              "      border-color: transparent;\n",
              "      border-left-color: var(--fill-color);\n",
              "      border-top-color: var(--fill-color);\n",
              "    }\n",
              "    30% {\n",
              "      border-color: transparent;\n",
              "      border-left-color: var(--fill-color);\n",
              "      border-top-color: var(--fill-color);\n",
              "      border-right-color: var(--fill-color);\n",
              "    }\n",
              "    40% {\n",
              "      border-color: transparent;\n",
              "      border-right-color: var(--fill-color);\n",
              "      border-top-color: var(--fill-color);\n",
              "    }\n",
              "    60% {\n",
              "      border-color: transparent;\n",
              "      border-right-color: var(--fill-color);\n",
              "    }\n",
              "    80% {\n",
              "      border-color: transparent;\n",
              "      border-right-color: var(--fill-color);\n",
              "      border-bottom-color: var(--fill-color);\n",
              "    }\n",
              "    90% {\n",
              "      border-color: transparent;\n",
              "      border-bottom-color: var(--fill-color);\n",
              "    }\n",
              "  }\n",
              "</style>\n",
              "\n",
              "  <script>\n",
              "    async function quickchart(key) {\n",
              "      const quickchartButtonEl =\n",
              "        document.querySelector('#' + key + ' button');\n",
              "      quickchartButtonEl.disabled = true;  // To prevent multiple clicks.\n",
              "      quickchartButtonEl.classList.add('colab-df-spinner');\n",
              "      try {\n",
              "        const charts = await google.colab.kernel.invokeFunction(\n",
              "            'suggestCharts', [key], {});\n",
              "      } catch (error) {\n",
              "        console.error('Error during call to suggestCharts:', error);\n",
              "      }\n",
              "      quickchartButtonEl.classList.remove('colab-df-spinner');\n",
              "      quickchartButtonEl.classList.add('colab-df-quickchart-complete');\n",
              "    }\n",
              "    (() => {\n",
              "      let quickchartButtonEl =\n",
              "        document.querySelector('#df-e4b0c26d-013f-4605-819e-70895fef03c7 button');\n",
              "      quickchartButtonEl.style.display =\n",
              "        google.colab.kernel.accessAllowed ? 'block' : 'none';\n",
              "    })();\n",
              "  </script>\n",
              "</div>\n",
              "    </div>\n",
              "  </div>\n"
            ],
            "application/vnd.google.colaboratory.intrinsic+json": {
              "type": "dataframe",
              "summary": "{\n  \"name\": \"df\",\n  \"rows\": 4,\n  \"fields\": [\n    {\n      \"column\": \"v1\",\n      \"properties\": {\n        \"dtype\": \"string\",\n        \"num_unique_values\": 4,\n        \"samples\": [\n          2,\n          \"4825\",\n          \"5572\"\n        ],\n        \"semantic_type\": \"\",\n        \"description\": \"\"\n      }\n    },\n    {\n      \"column\": \"v2\",\n      \"properties\": {\n        \"dtype\": \"string\",\n        \"num_unique_values\": 4,\n        \"samples\": [\n          5169,\n          \"30\",\n          \"5572\"\n        ],\n        \"semantic_type\": \"\",\n        \"description\": \"\"\n      }\n    }\n  ]\n}"
            }
          },
          "metadata": {},
          "execution_count": 9
        }
      ],
      "source": [
        "df.describe()"
      ]
    },
    {
      "cell_type": "code",
      "execution_count": null,
      "id": "adba3f3f",
      "metadata": {
        "execution": {
          "iopub.execute_input": "2023-09-09T12:02:27.672124Z",
          "iopub.status.busy": "2023-09-09T12:02:27.671433Z",
          "iopub.status.idle": "2023-09-09T12:02:27.682279Z",
          "shell.execute_reply": "2023-09-09T12:02:27.681097Z"
        },
        "papermill": {
          "duration": 0.033662,
          "end_time": "2023-09-09T12:02:27.685085",
          "exception": false,
          "start_time": "2023-09-09T12:02:27.651423",
          "status": "completed"
        },
        "tags": [],
        "colab": {
          "base_uri": "https://localhost:8080/"
        },
        "id": "adba3f3f",
        "outputId": "7fbb682f-6cfa-4195-ba3e-efa7323ed1be"
      },
      "outputs": [
        {
          "output_type": "execute_result",
          "data": {
            "text/plain": [
              "v1    0\n",
              "v2    0\n",
              "dtype: int64"
            ]
          },
          "metadata": {},
          "execution_count": 10
        }
      ],
      "source": [
        "df.isnull().sum()"
      ]
    },
    {
      "cell_type": "code",
      "execution_count": null,
      "id": "6163c181",
      "metadata": {
        "execution": {
          "iopub.execute_input": "2023-09-09T12:02:27.725016Z",
          "iopub.status.busy": "2023-09-09T12:02:27.724575Z",
          "iopub.status.idle": "2023-09-09T12:02:27.731687Z",
          "shell.execute_reply": "2023-09-09T12:02:27.730577Z"
        },
        "papermill": {
          "duration": 0.030282,
          "end_time": "2023-09-09T12:02:27.734296",
          "exception": false,
          "start_time": "2023-09-09T12:02:27.704014",
          "status": "completed"
        },
        "tags": [],
        "colab": {
          "base_uri": "https://localhost:8080/"
        },
        "id": "6163c181",
        "outputId": "c9a3a7e8-a661-42a8-d945-7e524e382d7d"
      },
      "outputs": [
        {
          "output_type": "execute_result",
          "data": {
            "text/plain": [
              "Index(['v1', 'v2'], dtype='object')"
            ]
          },
          "metadata": {},
          "execution_count": 11
        }
      ],
      "source": [
        "df.columns"
      ]
    },
    {
      "cell_type": "code",
      "execution_count": null,
      "id": "77d67c57",
      "metadata": {
        "execution": {
          "iopub.execute_input": "2023-09-09T12:02:27.779476Z",
          "iopub.status.busy": "2023-09-09T12:02:27.777109Z",
          "iopub.status.idle": "2023-09-09T12:02:27.788652Z",
          "shell.execute_reply": "2023-09-09T12:02:27.787192Z"
        },
        "papermill": {
          "duration": 0.038429,
          "end_time": "2023-09-09T12:02:27.791915",
          "exception": false,
          "start_time": "2023-09-09T12:02:27.753486",
          "status": "completed"
        },
        "tags": [],
        "id": "77d67c57"
      },
      "outputs": [],
      "source": [
        "# Rename the columns \"v1 and \"v2\" to new names\n",
        "\n",
        "new_column_names = {\"v1\":\"Category\",\"v2\":\"Message\"}\n",
        "df.rename(columns = new_column_names,inplace = True)\n"
      ]
    },
    {
      "cell_type": "code",
      "execution_count": null,
      "id": "7e971265",
      "metadata": {
        "execution": {
          "iopub.execute_input": "2023-09-09T12:02:27.838196Z",
          "iopub.status.busy": "2023-09-09T12:02:27.837780Z",
          "iopub.status.idle": "2023-09-09T12:02:27.847830Z",
          "shell.execute_reply": "2023-09-09T12:02:27.846890Z"
        },
        "papermill": {
          "duration": 0.035765,
          "end_time": "2023-09-09T12:02:27.850032",
          "exception": false,
          "start_time": "2023-09-09T12:02:27.814267",
          "status": "completed"
        },
        "tags": [],
        "colab": {
          "base_uri": "https://localhost:8080/",
          "height": 206
        },
        "id": "7e971265",
        "outputId": "763bd928-cb96-494a-875a-2dd4a503f0cd"
      },
      "outputs": [
        {
          "output_type": "execute_result",
          "data": {
            "text/plain": [
              "  Category                                            Message\n",
              "0   Normal  Go until jurong point, crazy.. Available only ...\n",
              "1   Normal                      Ok lar... Joking wif u oni...\n",
              "2     spam  Free entry in 2 a wkly comp to win FA Cup fina...\n",
              "3   Normal  U dun say so early hor... U c already then say...\n",
              "4   Normal  Nah I don't think he goes to usf, he lives aro..."
            ],
            "text/html": [
              "\n",
              "  <div id=\"df-a1e21ad0-8a59-48ee-ae2c-fe3d17d3d783\" class=\"colab-df-container\">\n",
              "    <div>\n",
              "<style scoped>\n",
              "    .dataframe tbody tr th:only-of-type {\n",
              "        vertical-align: middle;\n",
              "    }\n",
              "\n",
              "    .dataframe tbody tr th {\n",
              "        vertical-align: top;\n",
              "    }\n",
              "\n",
              "    .dataframe thead th {\n",
              "        text-align: right;\n",
              "    }\n",
              "</style>\n",
              "<table border=\"1\" class=\"dataframe\">\n",
              "  <thead>\n",
              "    <tr style=\"text-align: right;\">\n",
              "      <th></th>\n",
              "      <th>Category</th>\n",
              "      <th>Message</th>\n",
              "    </tr>\n",
              "  </thead>\n",
              "  <tbody>\n",
              "    <tr>\n",
              "      <th>0</th>\n",
              "      <td>Normal</td>\n",
              "      <td>Go until jurong point, crazy.. Available only ...</td>\n",
              "    </tr>\n",
              "    <tr>\n",
              "      <th>1</th>\n",
              "      <td>Normal</td>\n",
              "      <td>Ok lar... Joking wif u oni...</td>\n",
              "    </tr>\n",
              "    <tr>\n",
              "      <th>2</th>\n",
              "      <td>spam</td>\n",
              "      <td>Free entry in 2 a wkly comp to win FA Cup fina...</td>\n",
              "    </tr>\n",
              "    <tr>\n",
              "      <th>3</th>\n",
              "      <td>Normal</td>\n",
              "      <td>U dun say so early hor... U c already then say...</td>\n",
              "    </tr>\n",
              "    <tr>\n",
              "      <th>4</th>\n",
              "      <td>Normal</td>\n",
              "      <td>Nah I don't think he goes to usf, he lives aro...</td>\n",
              "    </tr>\n",
              "  </tbody>\n",
              "</table>\n",
              "</div>\n",
              "    <div class=\"colab-df-buttons\">\n",
              "\n",
              "  <div class=\"colab-df-container\">\n",
              "    <button class=\"colab-df-convert\" onclick=\"convertToInteractive('df-a1e21ad0-8a59-48ee-ae2c-fe3d17d3d783')\"\n",
              "            title=\"Convert this dataframe to an interactive table.\"\n",
              "            style=\"display:none;\">\n",
              "\n",
              "  <svg xmlns=\"http://www.w3.org/2000/svg\" height=\"24px\" viewBox=\"0 -960 960 960\">\n",
              "    <path d=\"M120-120v-720h720v720H120Zm60-500h600v-160H180v160Zm220 220h160v-160H400v160Zm0 220h160v-160H400v160ZM180-400h160v-160H180v160Zm440 0h160v-160H620v160ZM180-180h160v-160H180v160Zm440 0h160v-160H620v160Z\"/>\n",
              "  </svg>\n",
              "    </button>\n",
              "\n",
              "  <style>\n",
              "    .colab-df-container {\n",
              "      display:flex;\n",
              "      gap: 12px;\n",
              "    }\n",
              "\n",
              "    .colab-df-convert {\n",
              "      background-color: #E8F0FE;\n",
              "      border: none;\n",
              "      border-radius: 50%;\n",
              "      cursor: pointer;\n",
              "      display: none;\n",
              "      fill: #1967D2;\n",
              "      height: 32px;\n",
              "      padding: 0 0 0 0;\n",
              "      width: 32px;\n",
              "    }\n",
              "\n",
              "    .colab-df-convert:hover {\n",
              "      background-color: #E2EBFA;\n",
              "      box-shadow: 0px 1px 2px rgba(60, 64, 67, 0.3), 0px 1px 3px 1px rgba(60, 64, 67, 0.15);\n",
              "      fill: #174EA6;\n",
              "    }\n",
              "\n",
              "    .colab-df-buttons div {\n",
              "      margin-bottom: 4px;\n",
              "    }\n",
              "\n",
              "    [theme=dark] .colab-df-convert {\n",
              "      background-color: #3B4455;\n",
              "      fill: #D2E3FC;\n",
              "    }\n",
              "\n",
              "    [theme=dark] .colab-df-convert:hover {\n",
              "      background-color: #434B5C;\n",
              "      box-shadow: 0px 1px 3px 1px rgba(0, 0, 0, 0.15);\n",
              "      filter: drop-shadow(0px 1px 2px rgba(0, 0, 0, 0.3));\n",
              "      fill: #FFFFFF;\n",
              "    }\n",
              "  </style>\n",
              "\n",
              "    <script>\n",
              "      const buttonEl =\n",
              "        document.querySelector('#df-a1e21ad0-8a59-48ee-ae2c-fe3d17d3d783 button.colab-df-convert');\n",
              "      buttonEl.style.display =\n",
              "        google.colab.kernel.accessAllowed ? 'block' : 'none';\n",
              "\n",
              "      async function convertToInteractive(key) {\n",
              "        const element = document.querySelector('#df-a1e21ad0-8a59-48ee-ae2c-fe3d17d3d783');\n",
              "        const dataTable =\n",
              "          await google.colab.kernel.invokeFunction('convertToInteractive',\n",
              "                                                    [key], {});\n",
              "        if (!dataTable) return;\n",
              "\n",
              "        const docLinkHtml = 'Like what you see? Visit the ' +\n",
              "          '<a target=\"_blank\" href=https://colab.research.google.com/notebooks/data_table.ipynb>data table notebook</a>'\n",
              "          + ' to learn more about interactive tables.';\n",
              "        element.innerHTML = '';\n",
              "        dataTable['output_type'] = 'display_data';\n",
              "        await google.colab.output.renderOutput(dataTable, element);\n",
              "        const docLink = document.createElement('div');\n",
              "        docLink.innerHTML = docLinkHtml;\n",
              "        element.appendChild(docLink);\n",
              "      }\n",
              "    </script>\n",
              "  </div>\n",
              "\n",
              "\n",
              "<div id=\"df-33d9981f-b1c3-4cb8-87db-2be81baf4f60\">\n",
              "  <button class=\"colab-df-quickchart\" onclick=\"quickchart('df-33d9981f-b1c3-4cb8-87db-2be81baf4f60')\"\n",
              "            title=\"Suggest charts\"\n",
              "            style=\"display:none;\">\n",
              "\n",
              "<svg xmlns=\"http://www.w3.org/2000/svg\" height=\"24px\"viewBox=\"0 0 24 24\"\n",
              "     width=\"24px\">\n",
              "    <g>\n",
              "        <path d=\"M19 3H5c-1.1 0-2 .9-2 2v14c0 1.1.9 2 2 2h14c1.1 0 2-.9 2-2V5c0-1.1-.9-2-2-2zM9 17H7v-7h2v7zm4 0h-2V7h2v10zm4 0h-2v-4h2v4z\"/>\n",
              "    </g>\n",
              "</svg>\n",
              "  </button>\n",
              "\n",
              "<style>\n",
              "  .colab-df-quickchart {\n",
              "      --bg-color: #E8F0FE;\n",
              "      --fill-color: #1967D2;\n",
              "      --hover-bg-color: #E2EBFA;\n",
              "      --hover-fill-color: #174EA6;\n",
              "      --disabled-fill-color: #AAA;\n",
              "      --disabled-bg-color: #DDD;\n",
              "  }\n",
              "\n",
              "  [theme=dark] .colab-df-quickchart {\n",
              "      --bg-color: #3B4455;\n",
              "      --fill-color: #D2E3FC;\n",
              "      --hover-bg-color: #434B5C;\n",
              "      --hover-fill-color: #FFFFFF;\n",
              "      --disabled-bg-color: #3B4455;\n",
              "      --disabled-fill-color: #666;\n",
              "  }\n",
              "\n",
              "  .colab-df-quickchart {\n",
              "    background-color: var(--bg-color);\n",
              "    border: none;\n",
              "    border-radius: 50%;\n",
              "    cursor: pointer;\n",
              "    display: none;\n",
              "    fill: var(--fill-color);\n",
              "    height: 32px;\n",
              "    padding: 0;\n",
              "    width: 32px;\n",
              "  }\n",
              "\n",
              "  .colab-df-quickchart:hover {\n",
              "    background-color: var(--hover-bg-color);\n",
              "    box-shadow: 0 1px 2px rgba(60, 64, 67, 0.3), 0 1px 3px 1px rgba(60, 64, 67, 0.15);\n",
              "    fill: var(--button-hover-fill-color);\n",
              "  }\n",
              "\n",
              "  .colab-df-quickchart-complete:disabled,\n",
              "  .colab-df-quickchart-complete:disabled:hover {\n",
              "    background-color: var(--disabled-bg-color);\n",
              "    fill: var(--disabled-fill-color);\n",
              "    box-shadow: none;\n",
              "  }\n",
              "\n",
              "  .colab-df-spinner {\n",
              "    border: 2px solid var(--fill-color);\n",
              "    border-color: transparent;\n",
              "    border-bottom-color: var(--fill-color);\n",
              "    animation:\n",
              "      spin 1s steps(1) infinite;\n",
              "  }\n",
              "\n",
              "  @keyframes spin {\n",
              "    0% {\n",
              "      border-color: transparent;\n",
              "      border-bottom-color: var(--fill-color);\n",
              "      border-left-color: var(--fill-color);\n",
              "    }\n",
              "    20% {\n",
              "      border-color: transparent;\n",
              "      border-left-color: var(--fill-color);\n",
              "      border-top-color: var(--fill-color);\n",
              "    }\n",
              "    30% {\n",
              "      border-color: transparent;\n",
              "      border-left-color: var(--fill-color);\n",
              "      border-top-color: var(--fill-color);\n",
              "      border-right-color: var(--fill-color);\n",
              "    }\n",
              "    40% {\n",
              "      border-color: transparent;\n",
              "      border-right-color: var(--fill-color);\n",
              "      border-top-color: var(--fill-color);\n",
              "    }\n",
              "    60% {\n",
              "      border-color: transparent;\n",
              "      border-right-color: var(--fill-color);\n",
              "    }\n",
              "    80% {\n",
              "      border-color: transparent;\n",
              "      border-right-color: var(--fill-color);\n",
              "      border-bottom-color: var(--fill-color);\n",
              "    }\n",
              "    90% {\n",
              "      border-color: transparent;\n",
              "      border-bottom-color: var(--fill-color);\n",
              "    }\n",
              "  }\n",
              "</style>\n",
              "\n",
              "  <script>\n",
              "    async function quickchart(key) {\n",
              "      const quickchartButtonEl =\n",
              "        document.querySelector('#' + key + ' button');\n",
              "      quickchartButtonEl.disabled = true;  // To prevent multiple clicks.\n",
              "      quickchartButtonEl.classList.add('colab-df-spinner');\n",
              "      try {\n",
              "        const charts = await google.colab.kernel.invokeFunction(\n",
              "            'suggestCharts', [key], {});\n",
              "      } catch (error) {\n",
              "        console.error('Error during call to suggestCharts:', error);\n",
              "      }\n",
              "      quickchartButtonEl.classList.remove('colab-df-spinner');\n",
              "      quickchartButtonEl.classList.add('colab-df-quickchart-complete');\n",
              "    }\n",
              "    (() => {\n",
              "      let quickchartButtonEl =\n",
              "        document.querySelector('#df-33d9981f-b1c3-4cb8-87db-2be81baf4f60 button');\n",
              "      quickchartButtonEl.style.display =\n",
              "        google.colab.kernel.accessAllowed ? 'block' : 'none';\n",
              "    })();\n",
              "  </script>\n",
              "</div>\n",
              "    </div>\n",
              "  </div>\n"
            ],
            "application/vnd.google.colaboratory.intrinsic+json": {
              "type": "dataframe",
              "variable_name": "df",
              "summary": "{\n  \"name\": \"df\",\n  \"rows\": 5572,\n  \"fields\": [\n    {\n      \"column\": \"Category\",\n      \"properties\": {\n        \"dtype\": \"category\",\n        \"num_unique_values\": 2,\n        \"samples\": [\n          \"spam\",\n          \"Normal\"\n        ],\n        \"semantic_type\": \"\",\n        \"description\": \"\"\n      }\n    },\n    {\n      \"column\": \"Message\",\n      \"properties\": {\n        \"dtype\": \"string\",\n        \"num_unique_values\": 5169,\n        \"samples\": [\n          \"Did u download the fring app?\",\n          \"Pass dis to all ur contacts n see wat u get! Red;i'm in luv wid u. Blue;u put a smile on my face. Purple;u r realy hot. Pink;u r so swt. Orange;i thnk i lyk u. Green;i realy wana go out wid u. Yelow;i wnt u bck. Black;i'm jealous of u. Brown;i miss you Nw plz giv me one color\"\n        ],\n        \"semantic_type\": \"\",\n        \"description\": \"\"\n      }\n    }\n  ]\n}"
            }
          },
          "metadata": {},
          "execution_count": 13
        }
      ],
      "source": [
        "df.head()"
      ]
    },
    {
      "cell_type": "markdown",
      "id": "fad1f1b4",
      "metadata": {
        "papermill": {
          "duration": 0.022901,
          "end_time": "2023-09-09T12:02:27.891954",
          "exception": false,
          "start_time": "2023-09-09T12:02:27.869053",
          "status": "completed"
        },
        "tags": [],
        "id": "fad1f1b4"
      },
      "source": [
        "**Data Visualisation**"
      ]
    },
    {
      "cell_type": "code",
      "execution_count": null,
      "id": "a71f7f93",
      "metadata": {
        "execution": {
          "iopub.execute_input": "2023-09-09T12:02:27.946207Z",
          "iopub.status.busy": "2023-09-09T12:02:27.944543Z",
          "iopub.status.idle": "2023-09-09T12:02:28.272845Z",
          "shell.execute_reply": "2023-09-09T12:02:28.271575Z"
        },
        "papermill": {
          "duration": 0.358408,
          "end_time": "2023-09-09T12:02:28.275933",
          "exception": false,
          "start_time": "2023-09-09T12:02:27.917525",
          "status": "completed"
        },
        "tags": [],
        "colab": {
          "base_uri": "https://localhost:8080/",
          "height": 472
        },
        "id": "a71f7f93",
        "outputId": "f0a38e50-45ca-462b-ae1c-6997e06b230d"
      },
      "outputs": [
        {
          "output_type": "display_data",
          "data": {
            "text/plain": [
              "<Figure size 640x480 with 1 Axes>"
            ],
            "image/png": "[encoded data removed]"
          },
          "metadata": {}
        }
      ],
      "source": [
        "sns.countplot(data=df, x='Category')\n",
        "plt.xlabel('Category')\n",
        "plt.ylabel('count')\n",
        "plt.title('Distribution of mails')\n",
        "plt.show()"
      ]
    },
    {
      "cell_type": "code",
      "execution_count": null,
      "id": "9cf548d4",
      "metadata": {
        "execution": {
          "iopub.execute_input": "2023-09-09T12:02:28.318191Z",
          "iopub.status.busy": "2023-09-09T12:02:28.317270Z",
          "iopub.status.idle": "2023-09-09T12:02:28.468424Z",
          "shell.execute_reply": "2023-09-09T12:02:28.466531Z"
        },
        "papermill": {
          "duration": 0.175903,
          "end_time": "2023-09-09T12:02:28.471696",
          "exception": false,
          "start_time": "2023-09-09T12:02:28.295793",
          "status": "completed"
        },
        "tags": [],
        "colab": {
          "base_uri": "https://localhost:8080/",
          "height": 406
        },
        "id": "9cf548d4",
        "outputId": "cab28499-8905-40c4-eb53-879457b18a60"
      },
      "outputs": [
        {
          "output_type": "display_data",
          "data": {
            "text/plain": [
              "<Figure size 640x480 with 1 Axes>"
            ],
            "image/png": "[encoded data removed]"
          },
          "metadata": {}
        }
      ],
      "source": [
        "plt.pie(df['Category'].value_counts(),labels=['Normal','spam'],autopct='%0.2f')\n",
        "plt.show()"
      ]
    },
    {
      "cell_type": "markdown",
      "id": "0fe8f036",
      "metadata": {
        "papermill": {
          "duration": 0.032845,
          "end_time": "2023-09-09T12:02:28.546669",
          "exception": false,
          "start_time": "2023-09-09T12:02:28.513824",
          "status": "completed"
        },
        "tags": [],
        "id": "0fe8f036"
      },
      "source": [
        "# **Data Preprocessing**"
      ]
    },
    {
      "cell_type": "markdown",
      "id": "b9130b65",
      "metadata": {
        "papermill": {
          "duration": 0.019686,
          "end_time": "2023-09-09T12:02:28.586560",
          "exception": false,
          "start_time": "2023-09-09T12:02:28.566874",
          "status": "completed"
        },
        "tags": [],
        "id": "b9130b65"
      },
      "source": [
        "**Label Encoding**"
      ]
    },
    {
      "cell_type": "code",
      "execution_count": null,
      "id": "676298af",
      "metadata": {
        "execution": {
          "iopub.execute_input": "2023-09-09T12:02:28.628889Z",
          "iopub.status.busy": "2023-09-09T12:02:28.628374Z",
          "iopub.status.idle": "2023-09-09T12:02:28.639025Z",
          "shell.execute_reply": "2023-09-09T12:02:28.637952Z"
        },
        "papermill": {
          "duration": 0.034863,
          "end_time": "2023-09-09T12:02:28.641575",
          "exception": false,
          "start_time": "2023-09-09T12:02:28.606712",
          "status": "completed"
        },
        "tags": [],
        "id": "676298af"
      },
      "outputs": [],
      "source": [
        "df.loc[df[\"Category\"] == \"spam\", \"Category\"] = 0\n",
        "df.loc[df[\"Category\"] == \"Normal\", \"Category\"] = 1"
      ]
    },
    {
      "cell_type": "code",
      "execution_count": null,
      "id": "3a30fce9",
      "metadata": {
        "execution": {
          "iopub.execute_input": "2023-09-09T12:02:28.684717Z",
          "iopub.status.busy": "2023-09-09T12:02:28.683373Z",
          "iopub.status.idle": "2023-09-09T12:02:28.689527Z",
          "shell.execute_reply": "2023-09-09T12:02:28.688559Z"
        },
        "papermill": {
          "duration": 0.030263,
          "end_time": "2023-09-09T12:02:28.692034",
          "exception": false,
          "start_time": "2023-09-09T12:02:28.661771",
          "status": "completed"
        },
        "tags": [],
        "id": "3a30fce9"
      },
      "outputs": [],
      "source": [
        "# Separate the feature (message) and target (category) data\n",
        "\n",
        "X = df[\"Message\"]\n",
        "Y = df[\"Category\"]"
      ]
    },
    {
      "cell_type": "code",
      "execution_count": null,
      "id": "c16a8530",
      "metadata": {
        "execution": {
          "iopub.execute_input": "2023-09-09T12:02:28.735134Z",
          "iopub.status.busy": "2023-09-09T12:02:28.734035Z",
          "iopub.status.idle": "2023-09-09T12:02:28.742382Z",
          "shell.execute_reply": "2023-09-09T12:02:28.741138Z"
        },
        "papermill": {
          "duration": 0.032425,
          "end_time": "2023-09-09T12:02:28.744887",
          "exception": false,
          "start_time": "2023-09-09T12:02:28.712462",
          "status": "completed"
        },
        "tags": [],
        "id": "c16a8530",
        "outputId": "4ee228b1-fe36-437f-9289-5481c52aa021",
        "colab": {
          "base_uri": "https://localhost:8080/"
        }
      },
      "outputs": [
        {
          "output_type": "stream",
          "name": "stdout",
          "text": [
            "0       Go until jurong point, crazy.. Available only ...\n",
            "1                           Ok lar... Joking wif u oni...\n",
            "2       Free entry in 2 a wkly comp to win FA Cup fina...\n",
            "3       U dun say so early hor... U c already then say...\n",
            "4       Nah I don't think he goes to usf, he lives aro...\n",
            "                              ...                        \n",
            "5567    This is the 2nd time we have tried 2 contact u...\n",
            "5568                Will Ì_ b going to esplanade fr home?\n",
            "5569    Pity, * was in mood for that. So...any other s...\n",
            "5570    The guy did some bitching but I acted like i'd...\n",
            "5571                           Rofl. Its true to its name\n",
            "Name: Message, Length: 5572, dtype: object\n"
          ]
        }
      ],
      "source": [
        "print(X)"
      ]
    },
    {
      "cell_type": "code",
      "execution_count": null,
      "id": "18cc4c65",
      "metadata": {
        "execution": {
          "iopub.execute_input": "2023-09-09T12:02:28.787822Z",
          "iopub.status.busy": "2023-09-09T12:02:28.787042Z",
          "iopub.status.idle": "2023-09-09T12:02:28.794882Z",
          "shell.execute_reply": "2023-09-09T12:02:28.793558Z"
        },
        "papermill": {
          "duration": 0.032154,
          "end_time": "2023-09-09T12:02:28.797364",
          "exception": false,
          "start_time": "2023-09-09T12:02:28.765210",
          "status": "completed"
        },
        "tags": [],
        "colab": {
          "base_uri": "https://localhost:8080/"
        },
        "id": "18cc4c65",
        "outputId": "71740e55-a9d9-40e5-c474-745522e19a27"
      },
      "outputs": [
        {
          "output_type": "stream",
          "name": "stdout",
          "text": [
            "0       1\n",
            "1       1\n",
            "2       0\n",
            "3       1\n",
            "4       1\n",
            "       ..\n",
            "5567    0\n",
            "5568    1\n",
            "5569    1\n",
            "5570    1\n",
            "5571    1\n",
            "Name: Category, Length: 5572, dtype: object\n"
          ]
        }
      ],
      "source": [
        "print(Y)"
      ]
    },
    {
      "cell_type": "markdown",
      "id": "71b39e38",
      "metadata": {
        "papermill": {
          "duration": 0.019674,
          "end_time": "2023-09-09T12:02:28.839459",
          "exception": false,
          "start_time": "2023-09-09T12:02:28.819785",
          "status": "completed"
        },
        "tags": [],
        "id": "71b39e38"
      },
      "source": [
        "**Splitting the data into training data and test data**"
      ]
    },
    {
      "cell_type": "code",
      "execution_count": null,
      "id": "79011d68",
      "metadata": {
        "execution": {
          "iopub.execute_input": "2023-09-09T12:02:28.881155Z",
          "iopub.status.busy": "2023-09-09T12:02:28.880706Z",
          "iopub.status.idle": "2023-09-09T12:02:28.888666Z",
          "shell.execute_reply": "2023-09-09T12:02:28.887817Z"
        },
        "papermill": {
          "duration": 0.03171,
          "end_time": "2023-09-09T12:02:28.891024",
          "exception": false,
          "start_time": "2023-09-09T12:02:28.859314",
          "status": "completed"
        },
        "tags": [],
        "id": "79011d68"
      },
      "outputs": [],
      "source": [
        "X_train, X_test, Y_train, Y_test = train_test_split(X, Y, test_size = 0.2, random_state = 3)"
      ]
    },
    {
      "cell_type": "code",
      "execution_count": null,
      "id": "d2990bfc",
      "metadata": {
        "execution": {
          "iopub.execute_input": "2023-09-09T12:02:28.935033Z",
          "iopub.status.busy": "2023-09-09T12:02:28.934209Z",
          "iopub.status.idle": "2023-09-09T12:02:28.940146Z",
          "shell.execute_reply": "2023-09-09T12:02:28.938845Z"
        },
        "papermill": {
          "duration": 0.030852,
          "end_time": "2023-09-09T12:02:28.942526",
          "exception": false,
          "start_time": "2023-09-09T12:02:28.911674",
          "status": "completed"
        },
        "tags": [],
        "colab": {
          "base_uri": "https://localhost:8080/"
        },
        "id": "d2990bfc",
        "outputId": "d04af745-ac3c-4cf7-b38c-592a9ac79f59"
      },
      "outputs": [
        {
          "output_type": "stream",
          "name": "stdout",
          "text": [
            "(5572,)\n"
          ]
        }
      ],
      "source": [
        "# Print the shape of X\n",
        "print(X.shape)\n"
      ]
    },
    {
      "cell_type": "code",
      "execution_count": null,
      "id": "ed712881",
      "metadata": {
        "execution": {
          "iopub.execute_input": "2023-09-09T12:02:28.987260Z",
          "iopub.status.busy": "2023-09-09T12:02:28.986163Z",
          "iopub.status.idle": "2023-09-09T12:02:28.993025Z",
          "shell.execute_reply": "2023-09-09T12:02:28.991753Z"
        },
        "papermill": {
          "duration": 0.032066,
          "end_time": "2023-09-09T12:02:28.995542",
          "exception": false,
          "start_time": "2023-09-09T12:02:28.963476",
          "status": "completed"
        },
        "tags": [],
        "colab": {
          "base_uri": "https://localhost:8080/"
        },
        "id": "ed712881",
        "outputId": "78d03720-9e5a-47c0-de90-4859b548ca1f"
      },
      "outputs": [
        {
          "output_type": "stream",
          "name": "stdout",
          "text": [
            "(4457,)\n",
            "(1115,)\n"
          ]
        }
      ],
      "source": [
        "# Print the shape of X_train and X_test\n",
        "print(X_train.shape)\n",
        "print(X_test.shape)"
      ]
    },
    {
      "cell_type": "markdown",
      "id": "a2064c15",
      "metadata": {
        "papermill": {
          "duration": 0.020771,
          "end_time": "2023-09-09T12:02:29.037577",
          "exception": false,
          "start_time": "2023-09-09T12:02:29.016806",
          "status": "completed"
        },
        "tags": [],
        "id": "a2064c15"
      },
      "source": [
        "# **Feature Extraction**"
      ]
    },
    {
      "cell_type": "markdown",
      "id": "f73c8d84",
      "metadata": {
        "papermill": {
          "duration": 0.019933,
          "end_time": "2023-09-09T12:02:29.079186",
          "exception": false,
          "start_time": "2023-09-09T12:02:29.059253",
          "status": "completed"
        },
        "tags": [],
        "id": "f73c8d84"
      },
      "source": [
        "**TF-IDF Vectorizer**"
      ]
    },
    {
      "cell_type": "code",
      "execution_count": null,
      "id": "95fb7924",
      "metadata": {
        "execution": {
          "iopub.execute_input": "2023-09-09T12:02:29.123431Z",
          "iopub.status.busy": "2023-09-09T12:02:29.122849Z",
          "iopub.status.idle": "2023-09-09T12:02:29.128772Z",
          "shell.execute_reply": "2023-09-09T12:02:29.127453Z"
        },
        "papermill": {
          "duration": 0.030904,
          "end_time": "2023-09-09T12:02:29.131237",
          "exception": false,
          "start_time": "2023-09-09T12:02:29.100333",
          "status": "completed"
        },
        "tags": [],
        "id": "95fb7924"
      },
      "outputs": [],
      "source": [
        "# Initialize TF-IDF Vectorizer\n",
        "feature_extraction = TfidfVectorizer(min_df=1, stop_words=\"english\", lowercase=True)"
      ]
    },
    {
      "cell_type": "code",
      "execution_count": null,
      "id": "40c8c69d",
      "metadata": {
        "execution": {
          "iopub.execute_input": "2023-09-09T12:02:29.175724Z",
          "iopub.status.busy": "2023-09-09T12:02:29.175228Z",
          "iopub.status.idle": "2023-09-09T12:02:29.354037Z",
          "shell.execute_reply": "2023-09-09T12:02:29.352675Z"
        },
        "papermill": {
          "duration": 0.205198,
          "end_time": "2023-09-09T12:02:29.357773",
          "exception": false,
          "start_time": "2023-09-09T12:02:29.152575",
          "status": "completed"
        },
        "tags": [],
        "id": "40c8c69d"
      },
      "outputs": [],
      "source": [
        "# Feature extraction for training and testing data\n",
        "X_train_features = feature_extraction.fit_transform(X_train)\n",
        "X_test_features = feature_extraction.transform(X_test)\n"
      ]
    },
    {
      "cell_type": "code",
      "execution_count": null,
      "id": "772a7171",
      "metadata": {
        "execution": {
          "iopub.execute_input": "2023-09-09T12:02:29.401815Z",
          "iopub.status.busy": "2023-09-09T12:02:29.401298Z",
          "iopub.status.idle": "2023-09-09T12:02:29.408207Z",
          "shell.execute_reply": "2023-09-09T12:02:29.407032Z"
        },
        "papermill": {
          "duration": 0.031695,
          "end_time": "2023-09-09T12:02:29.410772",
          "exception": false,
          "start_time": "2023-09-09T12:02:29.379077",
          "status": "completed"
        },
        "tags": [],
        "id": "772a7171"
      },
      "outputs": [],
      "source": [
        "# Convert Y_train and Y_test to integer type\n",
        "Y_train = Y_train.astype(\"int\")\n",
        "Y_test = Y_test.astype(\"int\")\n"
      ]
    },
    {
      "cell_type": "code",
      "execution_count": null,
      "id": "d0b6ce6d",
      "metadata": {
        "execution": {
          "iopub.execute_input": "2023-09-09T12:02:29.454368Z",
          "iopub.status.busy": "2023-09-09T12:02:29.453910Z",
          "iopub.status.idle": "2023-09-09T12:02:29.461731Z",
          "shell.execute_reply": "2023-09-09T12:02:29.460522Z"
        },
        "papermill": {
          "duration": 0.0331,
          "end_time": "2023-09-09T12:02:29.464566",
          "exception": false,
          "start_time": "2023-09-09T12:02:29.431466",
          "status": "completed"
        },
        "tags": [],
        "colab": {
          "base_uri": "https://localhost:8080/"
        },
        "id": "d0b6ce6d",
        "outputId": "8f546118-789c-4cc8-d6cf-62fab5332e71"
      },
      "outputs": [
        {
          "output_type": "stream",
          "name": "stdout",
          "text": [
            "3075    Mum, hope you are having a great day. Hoping t...\n",
            "1787                           Yes:)sura in sun tv.:)lol.\n",
            "1614    Me sef dey laugh you. Meanwhile how's my darli...\n",
            "4304                Yo come over carlos will be here soon\n",
            "3266                    Ok then i come n pick u at engin?\n",
            "                              ...                        \n",
            "789                          Gud mrng dear hav a nice day\n",
            "968             Are you willing to go for aptitude class.\n",
            "1667    So now my dad is gonna call after he gets out ...\n",
            "3321    Ok darlin i supose it was ok i just worry too ...\n",
            "1688                     Nan sonathaya soladha. Why boss?\n",
            "Name: Message, Length: 4457, dtype: object\n"
          ]
        }
      ],
      "source": [
        "print(X_train)\n"
      ]
    },
    {
      "cell_type": "code",
      "execution_count": null,
      "id": "0342213e",
      "metadata": {
        "execution": {
          "iopub.execute_input": "2023-09-09T12:02:29.509921Z",
          "iopub.status.busy": "2023-09-09T12:02:29.509429Z",
          "iopub.status.idle": "2023-09-09T12:02:29.517399Z",
          "shell.execute_reply": "2023-09-09T12:02:29.515705Z"
        },
        "papermill": {
          "duration": 0.034956,
          "end_time": "2023-09-09T12:02:29.520272",
          "exception": false,
          "start_time": "2023-09-09T12:02:29.485316",
          "status": "completed"
        },
        "tags": [],
        "colab": {
          "base_uri": "https://localhost:8080/"
        },
        "id": "0342213e",
        "outputId": "2f085980-b6b5-468f-8dd3-9e3a66d7af21"
      },
      "outputs": [
        {
          "output_type": "stream",
          "name": "stdout",
          "text": [
            "  (0, 741)\t0.3219352588930141\n",
            "  (0, 3976)\t0.2410582143632299\n",
            "  (0, 4293)\t0.3891385935794867\n",
            "  (0, 6598)\t0.20296878731699391\n",
            "  (0, 3383)\t0.3219352588930141\n",
            "  (0, 2122)\t0.38613577623520473\n",
            "  (0, 3136)\t0.440116181574609\n",
            "  (0, 3259)\t0.25877035357606315\n",
            "  (0, 3377)\t0.21807195185332803\n",
            "  (0, 4510)\t0.2909649098524696\n",
            "  (1, 4058)\t0.380431198316959\n",
            "  (1, 6871)\t0.4306015894277422\n",
            "  (1, 6416)\t0.4769136859540388\n",
            "  (1, 6441)\t0.5652509076654626\n",
            "  (1, 7442)\t0.35056971070320353\n",
            "  (2, 933)\t0.4917598465723273\n",
            "  (2, 2109)\t0.42972812260098503\n",
            "  (2, 3914)\t0.40088501350982736\n",
            "  (2, 2226)\t0.413484525934624\n",
            "  (2, 5824)\t0.4917598465723273\n",
            "  (3, 6139)\t0.4903863168693604\n",
            "  (3, 1599)\t0.5927091854194291\n",
            "  (3, 1842)\t0.3708680641487708\n",
            "  (3, 7452)\t0.5202633571003087\n",
            "  (4, 2531)\t0.7419319091456392\n",
            "  :\t:\n",
            "  (4452, 2122)\t0.31002103760284144\n",
            "  (4453, 999)\t0.6760129013031282\n",
            "  (4453, 7272)\t0.5787739591782677\n",
            "  (4453, 1759)\t0.45610005640082985\n",
            "  (4454, 3029)\t0.42618909997886\n",
            "  (4454, 2086)\t0.3809693742808703\n",
            "  (4454, 3088)\t0.34475593009514444\n",
            "  (4454, 2001)\t0.4166919007849217\n",
            "  (4454, 1049)\t0.31932060116006045\n",
            "  (4454, 7345)\t0.31166263834107377\n",
            "  (4454, 5369)\t0.42618909997886\n",
            "  (4455, 1148)\t0.38998123077430413\n",
            "  (4455, 6432)\t0.38998123077430413\n",
            "  (4455, 6360)\t0.25697343671652706\n",
            "  (4455, 2764)\t0.3226323745940581\n",
            "  (4455, 7357)\t0.2915949626395065\n",
            "  (4455, 7406)\t0.3028481995557642\n",
            "  (4455, 2108)\t0.3136468384526087\n",
            "  (4455, 4248)\t0.30616657078392584\n",
            "  (4455, 3760)\t0.16807158405536876\n",
            "  (4455, 4772)\t0.35860460546223444\n",
            "  (4456, 6116)\t0.5304350313291551\n",
            "  (4456, 6132)\t0.5304350313291551\n",
            "  (4456, 1386)\t0.4460036316446079\n",
            "  (4456, 4554)\t0.48821933148688146\n"
          ]
        }
      ],
      "source": [
        "print(X_train_features)"
      ]
    },
    {
      "cell_type": "markdown",
      "id": "db3633fd",
      "metadata": {
        "papermill": {
          "duration": 0.020453,
          "end_time": "2023-09-09T12:02:29.561710",
          "exception": false,
          "start_time": "2023-09-09T12:02:29.541257",
          "status": "completed"
        },
        "tags": [],
        "id": "db3633fd"
      },
      "source": [
        "# **Model Selection and Training**"
      ]
    },
    {
      "cell_type": "markdown",
      "id": "85e177ca",
      "metadata": {
        "papermill": {
          "duration": 0.020232,
          "end_time": "2023-09-09T12:02:29.602601",
          "exception": false,
          "start_time": "2023-09-09T12:02:29.582369",
          "status": "completed"
        },
        "tags": [],
        "id": "85e177ca"
      },
      "source": [
        "**Logistic Regresion**"
      ]
    },
    {
      "cell_type": "code",
      "execution_count": null,
      "id": "7dc35aee",
      "metadata": {
        "execution": {
          "iopub.execute_input": "2023-09-09T12:02:29.646630Z",
          "iopub.status.busy": "2023-09-09T12:02:29.646149Z",
          "iopub.status.idle": "2023-09-09T12:02:29.750498Z",
          "shell.execute_reply": "2023-09-09T12:02:29.749264Z"
        },
        "papermill": {
          "duration": 0.129914,
          "end_time": "2023-09-09T12:02:29.753421",
          "exception": false,
          "start_time": "2023-09-09T12:02:29.623507",
          "status": "completed"
        },
        "tags": [],
        "colab": {
          "base_uri": "https://localhost:8080/",
          "height": 74
        },
        "id": "7dc35aee",
        "outputId": "2c548943-482c-4f53-db4f-0cea899d9e91"
      },
      "outputs": [
        {
          "output_type": "execute_result",
          "data": {
            "text/plain": [
              "LogisticRegression()"
            ],
            "text/html": [
              "<style>#sk-container-id-1 {color: black;background-color: white;}#sk-container-id-1 pre{padding: 0;}#sk-container-id-1 div.sk-toggleable {background-color: white;}#sk-container-id-1 label.sk-toggleable__label {cursor: pointer;display: block;width: 100%;margin-bottom: 0;padding: 0.3em;box-sizing: border-box;text-align: center;}#sk-container-id-1 label.sk-toggleable__label-arrow:before {content: \"▸\";float: left;margin-right: 0.25em;color: #696969;}#sk-container-id-1 label.sk-toggleable__label-arrow:hover:before {color: black;}#sk-container-id-1 div.sk-estimator:hover label.sk-toggleable__label-arrow:before {color: black;}#sk-container-id-1 div.sk-toggleable__content {max-height: 0;max-width: 0;overflow: hidden;text-align: left;background-color: #f0f8ff;}#sk-container-id-1 div.sk-toggleable__content pre {margin: 0.2em;color: black;border-radius: 0.25em;background-color: #f0f8ff;}#sk-container-id-1 input.sk-toggleable__control:checked~div.sk-toggleable__content {max-height: 200px;max-width: 100%;overflow: auto;}#sk-container-id-1 input.sk-toggleable__control:checked~label.sk-toggleable__label-arrow:before {content: \"▾\";}#sk-container-id-1 div.sk-estimator input.sk-toggleable__control:checked~label.sk-toggleable__label {background-color: #d4ebff;}#sk-container-id-1 div.sk-label input.sk-toggleable__control:checked~label.sk-toggleable__label {background-color: #d4ebff;}#sk-container-id-1 input.sk-hidden--visually {border: 0;clip: rect(1px 1px 1px 1px);clip: rect(1px, 1px, 1px, 1px);height: 1px;margin: -1px;overflow: hidden;padding: 0;position: absolute;width: 1px;}#sk-container-id-1 div.sk-estimator {font-family: monospace;background-color: #f0f8ff;border: 1px dotted black;border-radius: 0.25em;box-sizing: border-box;margin-bottom: 0.5em;}#sk-container-id-1 div.sk-estimator:hover {background-color: #d4ebff;}#sk-container-id-1 div.sk-parallel-item::after {content: \"\";width: 100%;border-bottom: 1px solid gray;flex-grow: 1;}#sk-container-id-1 div.sk-label:hover label.sk-toggleable__label {background-color: #d4ebff;}#sk-container-id-1 div.sk-serial::before {content: \"\";position: absolute;border-left: 1px solid gray;box-sizing: border-box;top: 0;bottom: 0;left: 50%;z-index: 0;}#sk-container-id-1 div.sk-serial {display: flex;flex-direction: column;align-items: center;background-color: white;padding-right: 0.2em;padding-left: 0.2em;position: relative;}#sk-container-id-1 div.sk-item {position: relative;z-index: 1;}#sk-container-id-1 div.sk-parallel {display: flex;align-items: stretch;justify-content: center;background-color: white;position: relative;}#sk-container-id-1 div.sk-item::before, #sk-container-id-1 div.sk-parallel-item::before {content: \"\";position: absolute;border-left: 1px solid gray;box-sizing: border-box;top: 0;bottom: 0;left: 50%;z-index: -1;}#sk-container-id-1 div.sk-parallel-item {display: flex;flex-direction: column;z-index: 1;position: relative;background-color: white;}#sk-container-id-1 div.sk-parallel-item:first-child::after {align-self: flex-end;width: 50%;}#sk-container-id-1 div.sk-parallel-item:last-child::after {align-self: flex-start;width: 50%;}#sk-container-id-1 div.sk-parallel-item:only-child::after {width: 0;}#sk-container-id-1 div.sk-dashed-wrapped {border: 1px dashed gray;margin: 0 0.4em 0.5em 0.4em;box-sizing: border-box;padding-bottom: 0.4em;background-color: white;}#sk-container-id-1 div.sk-label label {font-family: monospace;font-weight: bold;display: inline-block;line-height: 1.2em;}#sk-container-id-1 div.sk-label-container {text-align: center;}#sk-container-id-1 div.sk-container {/* jupyter's `normalize.less` sets `[hidden] { display: none; }` but bootstrap.min.css set `[hidden] { display: none !important; }` so we also need the `!important` here to be able to override the default hidden behavior on the sphinx rendered scikit-learn.org. See: https://github.com/scikit-learn/scikit-learn/issues/21755 */display: inline-block !important;position: relative;}#sk-container-id-1 div.sk-text-repr-fallback {display: none;}</style><div id=\"sk-container-id-1\" class=\"sk-top-container\"><div class=\"sk-text-repr-fallback\"><pre>LogisticRegression()</pre><b>In a Jupyter environment, please rerun this cell to show the HTML representation or trust the notebook. <br />On GitHub, the HTML representation is unable to render, please try loading this page with nbviewer.org.</b></div><div class=\"sk-container\" hidden><div class=\"sk-item\"><div class=\"sk-estimator sk-toggleable\"><input class=\"sk-toggleable__control sk-hidden--visually\" id=\"sk-estimator-id-1\" type=\"checkbox\" checked><label for=\"sk-estimator-id-1\" class=\"sk-toggleable__label sk-toggleable__label-arrow\">LogisticRegression</label><div class=\"sk-toggleable__content\"><pre>LogisticRegression()</pre></div></div></div></div></div>"
            ]
          },
          "metadata": {},
          "execution_count": 28
        }
      ],
      "source": [
        "# Create and Fit Logistic Regression Model\n",
        "model = LogisticRegression()\n",
        "model.fit(X_train_features, Y_train)\n"
      ]
    },
    {
      "cell_type": "markdown",
      "id": "9d831c9d",
      "metadata": {
        "papermill": {
          "duration": 0.02157,
          "end_time": "2023-09-09T12:02:29.796317",
          "exception": false,
          "start_time": "2023-09-09T12:02:29.774747",
          "status": "completed"
        },
        "tags": [],
        "id": "9d831c9d"
      },
      "source": [
        "**Evaluating the trained model**"
      ]
    },
    {
      "cell_type": "code",
      "execution_count": null,
      "id": "163e0945",
      "metadata": {
        "execution": {
          "iopub.execute_input": "2023-09-09T12:02:29.843444Z",
          "iopub.status.busy": "2023-09-09T12:02:29.842951Z",
          "iopub.status.idle": "2023-09-09T12:02:29.849165Z",
          "shell.execute_reply": "2023-09-09T12:02:29.848215Z"
        },
        "papermill": {
          "duration": 0.03375,
          "end_time": "2023-09-09T12:02:29.851404",
          "exception": false,
          "start_time": "2023-09-09T12:02:29.817654",
          "status": "completed"
        },
        "tags": [],
        "id": "163e0945"
      },
      "outputs": [],
      "source": [
        " #Make predictions on the training data\n",
        "predict_train_data=model.predict(X_train_features)"
      ]
    },
    {
      "cell_type": "code",
      "execution_count": null,
      "id": "2b5fe3e0",
      "metadata": {
        "execution": {
          "iopub.execute_input": "2023-09-09T12:02:29.896174Z",
          "iopub.status.busy": "2023-09-09T12:02:29.895655Z",
          "iopub.status.idle": "2023-09-09T12:02:29.904787Z",
          "shell.execute_reply": "2023-09-09T12:02:29.903423Z"
        },
        "papermill": {
          "duration": 0.034302,
          "end_time": "2023-09-09T12:02:29.907228",
          "exception": false,
          "start_time": "2023-09-09T12:02:29.872926",
          "status": "completed"
        },
        "tags": [],
        "colab": {
          "base_uri": "https://localhost:8080/"
        },
        "id": "2b5fe3e0",
        "outputId": "98c995fb-90e7-4f2d-ba6f-160b0a3b454c"
      },
      "outputs": [
        {
          "output_type": "stream",
          "name": "stdout",
          "text": [
            "Accuracy on training data:  0.9661207089970832\n"
          ]
        }
      ],
      "source": [
        "#Model Evaluation\n",
        "from sklearn.metrics import accuracy_score,confusion_matrix\n",
        "accuracy_train_data=accuracy_score(Y_train,predict_train_data)\n",
        "print(\"Accuracy on training data: \",accuracy_train_data)"
      ]
    },
    {
      "cell_type": "code",
      "execution_count": null,
      "id": "99edae3f",
      "metadata": {
        "execution": {
          "iopub.execute_input": "2023-09-09T12:02:29.952772Z",
          "iopub.status.busy": "2023-09-09T12:02:29.952259Z",
          "iopub.status.idle": "2023-09-09T12:02:29.958562Z",
          "shell.execute_reply": "2023-09-09T12:02:29.957200Z"
        },
        "papermill": {
          "duration": 0.032694,
          "end_time": "2023-09-09T12:02:29.961532",
          "exception": false,
          "start_time": "2023-09-09T12:02:29.928838",
          "status": "completed"
        },
        "tags": [],
        "id": "99edae3f"
      },
      "outputs": [],
      "source": [
        "# Make predictions on the testing data\n",
        "predict_test_data=model.predict(X_test_features)"
      ]
    },
    {
      "cell_type": "code",
      "execution_count": null,
      "id": "2eff3aa3",
      "metadata": {
        "execution": {
          "iopub.execute_input": "2023-09-09T12:02:30.006461Z",
          "iopub.status.busy": "2023-09-09T12:02:30.006002Z",
          "iopub.status.idle": "2023-09-09T12:02:30.015157Z",
          "shell.execute_reply": "2023-09-09T12:02:30.013876Z"
        },
        "papermill": {
          "duration": 0.034409,
          "end_time": "2023-09-09T12:02:30.017457",
          "exception": false,
          "start_time": "2023-09-09T12:02:29.983048",
          "status": "completed"
        },
        "tags": [],
        "colab": {
          "base_uri": "https://localhost:8080/"
        },
        "id": "2eff3aa3",
        "outputId": "31cd4a56-a3fc-4642-8729-88fcd0600cd0"
      },
      "outputs": [
        {
          "output_type": "stream",
          "name": "stdout",
          "text": [
            "acuuracy on test data:  0.9623318385650225\n"
          ]
        }
      ],
      "source": [
        "#Model Evaluation\n",
        "accuracy_test_data=accuracy_score(Y_test,predict_test_data)\n",
        "print(\"acuuracy on test data: \",accuracy_test_data)"
      ]
    },
    {
      "cell_type": "markdown",
      "id": "c3eaad34",
      "metadata": {
        "papermill": {
          "duration": 0.020764,
          "end_time": "2023-09-09T12:02:30.060355",
          "exception": false,
          "start_time": "2023-09-09T12:02:30.039591",
          "status": "completed"
        },
        "tags": [],
        "id": "c3eaad34"
      },
      "source": [
        "**Test the model with an email messages**\n"
      ]
    },
    {
      "cell_type": "code",
      "execution_count": null,
      "id": "cb5a9842",
      "metadata": {
        "execution": {
          "iopub.execute_input": "2023-09-09T12:02:30.105138Z",
          "iopub.status.busy": "2023-09-09T12:02:30.104553Z",
          "iopub.status.idle": "2023-09-09T12:02:30.115470Z",
          "shell.execute_reply": "2023-09-09T12:02:30.113942Z"
        },
        "papermill": {
          "duration": 0.036757,
          "end_time": "2023-09-09T12:02:30.118098",
          "exception": false,
          "start_time": "2023-09-09T12:02:30.081341",
          "status": "completed"
        },
        "tags": [],
        "colab": {
          "base_uri": "https://localhost:8080/"
        },
        "id": "cb5a9842",
        "outputId": "f4eddb8f-a681-4055-ac74-154f93efbe28"
      },
      "outputs": [
        {
          "output_type": "stream",
          "name": "stdout",
          "text": [
            "[1]\n",
            "Normal Mail\n"
          ]
        }
      ],
      "source": [
        "new_mail=[\"you got a job\"]\n",
        "new_data_features=feature_extraction.transform(new_mail)\n",
        "prediction=model.predict(new_data_features)\n",
        "print(prediction)\n",
        "\n",
        "if(prediction[0]==1):\n",
        "    print(\"Normal Mail\")\n",
        "else:\n",
        "    print(\"Spam Mail\")"
      ]
    },
    {
      "cell_type": "markdown",
      "id": "be1de933",
      "metadata": {
        "papermill": {
          "duration": 0.021227,
          "end_time": "2023-09-09T12:02:30.160539",
          "exception": false,
          "start_time": "2023-09-09T12:02:30.139312",
          "status": "completed"
        },
        "tags": [],
        "id": "be1de933"
      },
      "source": [
        "**Confusion Matrix**"
      ]
    },
    {
      "cell_type": "code",
      "execution_count": null,
      "id": "69652a30",
      "metadata": {
        "execution": {
          "iopub.execute_input": "2023-09-09T12:02:30.205292Z",
          "iopub.status.busy": "2023-09-09T12:02:30.204824Z",
          "iopub.status.idle": "2023-09-09T12:02:30.402636Z",
          "shell.execute_reply": "2023-09-09T12:02:30.401493Z"
        },
        "papermill": {
          "duration": 0.223475,
          "end_time": "2023-09-09T12:02:30.405359",
          "exception": false,
          "start_time": "2023-09-09T12:02:30.181884",
          "status": "completed"
        },
        "tags": [],
        "colab": {
          "base_uri": "https://localhost:8080/",
          "height": 410
        },
        "id": "69652a30",
        "outputId": "95f26ed5-c326-475c-b7a9-677ffc94a413"
      },
      "outputs": [
        {
          "output_type": "display_data",
          "data": {
            "text/plain": [
              "<Figure size 600x400 with 1 Axes>"
            ],
            "image/png": "[encoded data removed]"
          },
          "metadata": {}
        }
      ],
      "source": [
        "conf_matrix=confusion_matrix(Y_test,predict_test_data)\n",
        "plt.figure(figsize=(6,4))\n",
        "sns.heatmap(conf_matrix,annot=True,fmt=\"d\",cmap=\"Oranges\",cbar=False)\n",
        "plt.xlabel(\"Predicted value\")\n",
        "plt.ylabel(\"Actual value\")\n",
        "plt.title(\"Confusion Matrix\")\n",
        "plt.show()"
      ]
    },
    {
      "cell_type": "code",
      "execution_count": null,
      "id": "48cc91e2",
      "metadata": {
        "execution": {
          "iopub.execute_input": "2023-09-09T12:02:30.450939Z",
          "iopub.status.busy": "2023-09-09T12:02:30.450406Z",
          "iopub.status.idle": "2023-09-09T12:02:30.810234Z",
          "shell.execute_reply": "2023-09-09T12:02:30.809063Z"
        },
        "papermill": {
          "duration": 0.385981,
          "end_time": "2023-09-09T12:02:30.813049",
          "exception": false,
          "start_time": "2023-09-09T12:02:30.427068",
          "status": "completed"
        },
        "tags": [],
        "colab": {
          "base_uri": "https://localhost:8080/",
          "height": 593
        },
        "id": "48cc91e2",
        "outputId": "88d9dca1-d668-44c2-f06c-f8913edde2bb"
      },
      "outputs": [
        {
          "output_type": "display_data",
          "data": {
            "text/plain": [
              "<Figure size 1000x600 with 1 Axes>"
            ],
            "image/png": "[encoded data removed]"
          },
          "metadata": {}
        }
      ],
      "source": [
        "# Data visualization - Top 7 Most Common Words in Spam Emails\n",
        "\n",
        "stop_words = set(stopwords.words('english'))\n",
        "spam_words = \" \".join(df[df['Category'] == 0]['Message']).split()\n",
        "Normal_words = \" \".join(df[df['Category'] == 1]['Message']).split()\n",
        "\n",
        "spam_word_freq = Counter([word.lower() for word in spam_words if word.lower() not in stop_words and word.isalpha()])\n",
        "\n",
        "plt.figure(figsize=(10, 6))\n",
        "plt.bar(*zip(*spam_word_freq.most_common(7)), color='y')\n",
        "plt.xlabel('Words')\n",
        "plt.ylabel('Frequency')\n",
        "plt.title('Top 7 Most Common Words in Spam Emails')\n",
        "plt.xticks(rotation=45)\n",
        "plt.show()"
      ]
    }
  ],
  "metadata": {
    "kernelspec": {
      "display_name": "Python 3",
      "language": "python",
      "name": "python3"
    },
    "language_info": {
      "codemirror_mode": {
        "name": "ipython",
        "version": 3
      },
      "file_extension": ".py",
      "mimetype": "text/x-python",
      "name": "python",
      "nbconvert_exporter": "python",
      "pygments_lexer": "ipython3",
      "version": "3.10.12"
    },
    "papermill": {
      "default_parameters": {},
      "duration": 12.503298,
      "end_time": "2023-09-09T12:02:31.954472",
      "environment_variables": {},
      "exception": null,
      "input_path": "__notebook__.ipynb",
      "output_path": "__notebook__.ipynb",
      "parameters": {},
      "start_time": "2023-09-09T12:02:19.451174",
      "version": "2.4.0"
    },
    "colab": {
      "provenance": []
    }
  },
  "nbformat": 4,
  "nbformat_minor": 5
}